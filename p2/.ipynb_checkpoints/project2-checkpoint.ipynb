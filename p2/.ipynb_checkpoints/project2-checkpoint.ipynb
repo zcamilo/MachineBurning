{
 "cells": [
  {
   "cell_type": "code",
   "execution_count": 2,
   "metadata": {
    "collapsed": false
   },
   "outputs": [
    {
     "name": "stdout",
     "output_type": "stream",
     "text": [
      "Populating the interactive namespace from numpy and matplotlib\n"
     ]
    }
   ],
   "source": [
    "%pylab inline"
   ]
  },
  {
   "cell_type": "markdown",
   "metadata": {},
   "source": [
    "# Data import"
   ]
  },
  {
   "cell_type": "code",
   "execution_count": 16,
   "metadata": {
    "collapsed": false
   },
   "outputs": [
    {
     "name": "stdout",
     "output_type": "stream",
     "text": [
      "[[ 29.21992094  32.06940148   5.29914077 ...,  19.15931447  27.1368905\n",
      "   17.25853497]\n",
      " [ 27.22266305  18.31094613   4.51139149 ...,  38.4756445   35.2271322\n",
      "   26.52429526]\n",
      " [ 31.96292822  28.63485816   5.51074048 ...,  17.80403555  17.05101269\n",
      "   23.83247323]\n",
      " ..., \n",
      " [ 21.26063385  23.1544024    3.71553508 ...,  20.62351978  20.05328845\n",
      "   18.6803892 ]\n",
      " [ 27.08641517  27.683276     4.83415812 ...,  39.49749613  25.52388741\n",
      "   28.24350747]\n",
      " [ 22.14072519  42.77243682   5.22413545 ...,   5.89839124  21.14824004\n",
      "   28.39468546]]\n"
     ]
    }
   ],
   "source": [
    "tr_data = genfromtxt('train.csv', delimiter=',')\n",
    "tr_data = numpy.delete(tr_data,(0), axis=0) #delete header\n",
    "tr_data = numpy.delete(tr_data,(0), axis=1) #delete Id\n",
    "y_tr = tr_data[:,0] #get y\n",
    "x_tr = numpy.delete(tr_data,(0), axis=1) #delete y and get x\n",
    "\n"
   ]
  },
  {
   "cell_type": "markdown",
   "metadata": {},
   "source": [
    "# Classify"
   ]
  },
  {
   "cell_type": "code",
   "execution_count": 28,
   "metadata": {
    "collapsed": false
   },
   "outputs": [
    {
     "data": {
      "text/plain": [
       "<matplotlib.collections.PathCollection at 0x15aa5497c18>"
      ]
     },
     "execution_count": 28,
     "metadata": {},
     "output_type": "execute_result"
    },
    {
     "data": {
      "image/png": "[encoded data removed]",
      "text/plain": [
       "<matplotlib.figure.Figure at 0x15aa4264908>"
      ]
     },
     "metadata": {},
     "output_type": "display_data"
    }
   ],
   "source": [
    "#for i in range(len(x_tr[0,:])):\n",
    "scatter(x_tr[:,2],y_tr)"
   ]
  },
  {
   "cell_type": "code",
   "execution_count": 29,
   "metadata": {
    "collapsed": false
   },
   "outputs": [
    {
     "data": {
      "text/plain": [
       "SGDClassifier(alpha=0.0001, average=False, class_weight=None, epsilon=0.1,\n",
       "       eta0=0.0, fit_intercept=True, l1_ratio=0.15,\n",
       "       learning_rate='optimal', loss='hinge', n_iter=5, n_jobs=1,\n",
       "       penalty='l2', power_t=0.5, random_state=None, shuffle=True,\n",
       "       verbose=0, warm_start=False)"
      ]
     },
     "execution_count": 29,
     "metadata": {},
     "output_type": "execute_result"
    }
   ],
   "source": [
    "from sklearn.linear_model import SGDClassifier\n",
    "clf = SGDClassifier(loss=\"hinge\", penalty=\"l2\")\n",
    "clf.fit(x_tr, y_tr)\n",
    "SGDClassifier(alpha=0.0001, average=False, class_weight=None, epsilon=0.1,\n",
    "       eta0=0.0, fit_intercept=True, l1_ratio=0.15,\n",
    "       learning_rate='optimal', loss='hinge', n_iter=5, n_jobs=1,\n",
    "       penalty='l2', power_t=0.5, random_state=None, shuffle=True,\n",
    "       verbose=0, warm_start=False)"
   ]
  },
  {
   "cell_type": "code",
   "execution_count": 32,
   "metadata": {
    "collapsed": false
   },
   "outputs": [],
   "source": [
    "tst_data = genfromtxt('test.csv', delimiter=',')\n",
    "tst_data = numpy.delete(tst_data,(0), axis=0) #delete header\n",
    "nindex = tst_data[:,0] #nindex is an index array\n",
    "x_tst = numpy.delete(tst_data,(0), axis=1)"
   ]
  },
  {
   "cell_type": "code",
   "execution_count": 38,
   "metadata": {
    "collapsed": false
   },
   "outputs": [
    {
     "data": {
      "text/plain": [
       "<matplotlib.collections.PathCollection at 0x15aa437cc18>"
      ]
     },
     "execution_count": 38,
     "metadata": {},
     "output_type": "execute_result"
    },
    {
     "data": {
      "image/png": "[encoded data removed]",
      "text/plain": [
       "<matplotlib.figure.Figure at 0x15aa42fe048>"
      ]
     },
     "metadata": {},
     "output_type": "display_data"
    }
   ],
   "source": [
    "y_tst=clf.predict(x_tst)\n",
    "y\n",
    "scatter(nindex,y_tst)"
   ]
  },
  {
   "cell_type": "code",
   "execution_count": 43,
   "metadata": {
    "collapsed": false
   },
   "outputs": [],
   "source": [
    "index = []\n",
    "for i in arange(y_tst.size):\n",
    "    index.append(int(nindex[i]))\n",
    "\n",
    "y_tst_int = []\n",
    "for i in arange(y_tst.size):\n",
    "    y_tst_int.append(int(y_tst[i]))\n",
    "import csv\n",
    "with open('result1.csv', 'w') as fp:\n",
    "    a = csv.writer(fp, delimiter=',')\n",
    "    a.writerow(('Id','y'))\n",
    "    a.writerows(zip(index,y_tst_int))"
   ]
  }
 ],
 "metadata": {
  "kernelspec": {
   "display_name": "Python 3",
   "language": "python",
   "name": "python3"
  },
  "language_info": {
   "codemirror_mode": {
    "name": "ipython",
    "version": 3
   },
   "file_extension": ".py",
   "mimetype": "text/x-python",
   "name": "python",
   "nbconvert_exporter": "python",
   "pygments_lexer": "ipython3",
   "version": "3.5.1"
  }
 },
 "nbformat": 4,
 "nbformat_minor": 0
}
