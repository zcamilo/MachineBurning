{
 "cells": [
  {
   "cell_type": "code",
   "execution_count": 2,
   "metadata": {
    "collapsed": false
   },
   "outputs": [
    {
     "name": "stdout",
     "output_type": "stream",
     "text": [
      "Populating the interactive namespace from numpy and matplotlib\n"
     ]
    }
   ],
   "source": [
    "%pylab inline"
   ]
  },
  {
   "cell_type": "markdown",
   "metadata": {},
   "source": [
    "# Data import"
   ]
  },
  {
   "cell_type": "code",
   "execution_count": 56,
   "metadata": {
    "collapsed": false
   },
   "outputs": [
    {
     "data": {
      "text/plain": [
       "<matplotlib.text.Text at 0x15aa3eb26d8>"
      ]
     },
     "execution_count": 56,
     "metadata": {},
     "output_type": "execute_result"
    },
    {
     "data": {
      "image/png": "[encoded data removed]",
      "text/plain": [
       "<matplotlib.figure.Figure at 0x15aa3ef9710>"
      ]
     },
     "metadata": {},
     "output_type": "display_data"
    }
   ],
   "source": [
    "# Import training data\n",
    "tr_data = genfromtxt('train.csv', delimiter=',')\n",
    "tr_data = numpy.delete(tr_data,(0), axis=0) #delete header\n",
    "tr_data = numpy.delete(tr_data,(0), axis=1) #delete Id\n",
    "y_tr = tr_data[:,0] #get y\n",
    "x_tr = numpy.delete(tr_data,(0), axis=1) #delete y and get x\n",
    "\n",
    "# Import test data\n",
    "tst_data = genfromtxt('test.csv', delimiter=',')\n",
    "tst_data = numpy.delete(tst_data,(0), axis=0) #delete header\n",
    "nindex = tst_data[:,0] #nindex is an index array\n",
    "x_tst = numpy.delete(tst_data,(0), axis=1)\n",
    "\n",
    "# Scale training and test data\n",
    "from sklearn.preprocessing import StandardScaler\n",
    "scaler = StandardScaler()\n",
    "scaler.fit(x_tr)  # Don't cheat - fit only on training data\n",
    "x_tr_scaled = scaler.transform(x_tr)\n",
    "x_tst_scaled = scaler.transform(x_tst)  # apply same transformation to test data\n",
    "\n",
    "#for i in range(len(x_tr[0,:])):\n",
    "scatter(x_tr_scaled[:,2],y_tr)\n",
    "title(\"Label plotted against one dimension\")"
   ]
  },
  {
   "cell_type": "markdown",
   "metadata": {},
   "source": [
    "# Classify: Run 1"
   ]
  },
  {
   "cell_type": "code",
   "execution_count": 145,
   "metadata": {
    "collapsed": false
   },
   "outputs": [
    {
     "data": {
      "text/plain": [
       "<matplotlib.collections.PathCollection at 0x15aa9ab1240>"
      ]
     },
     "execution_count": 145,
     "metadata": {},
     "output_type": "execute_result"
    },
    {
     "data": {
      "image/png": "[encoded data removed]",
      "text/plain": [
       "<matplotlib.figure.Figure at 0x15aa86fdfd0>"
      ]
     },
     "metadata": {},
     "output_type": "display_data"
    }
   ],
   "source": [
    "# Classify with Stochastic Gradient Descent (SGD)\n",
    "from sklearn.linear_model import SGDClassifier\n",
    "clf = SGDClassifier(loss=\"hinge\", penalty=\"l2\", n_iter=5000)\n",
    "clf.fit(x_tr_scaled, y_tr)\n",
    "\"\"\"SGDClassifier(alpha=0.0001, average=False, class_weight=None, epsilon=0.1,\n",
    "       eta0=0.0, fit_intercept=True, l1_ratio=0.15,\n",
    "       learning_rate='optimal', loss='hinge', n_iter=5, n_jobs=1,\n",
    "       penalty='l2', power_t=0.5, random_state=None, shuffle=True,\n",
    "       verbose=0, warm_start=False)\"\"\"\n",
    "\n",
    "# Predict and plot my results on test data\n",
    "y_tst=clf.predict(x_tst_scaled)\n",
    "scatter(nindex,y_tst)"
   ]
  },
  {
   "cell_type": "markdown",
   "metadata": {},
   "source": [
    "# Classify: Run2"
   ]
  },
  {
   "cell_type": "code",
   "execution_count": 151,
   "metadata": {
    "collapsed": false
   },
   "outputs": [
    {
     "name": "stdout",
     "output_type": "stream",
     "text": [
      "Change: 0.3 % of the labels changed\n"
     ]
    },
    {
     "data": {
      "image/png": "[encoded data removed]",
      "text/plain": [
       "<matplotlib.figure.Figure at 0x15aa9812208>"
      ]
     },
     "metadata": {},
     "output_type": "display_data"
    }
   ],
   "source": [
    "# Do it again with different parameters and plot the difference in previous result and this result.\n",
    "from sklearn.linear_model import SGDClassifier\n",
    "clf = SGDClassifier(loss=\"hinge\", penalty=\"l2\",n_iter=5000)\n",
    "clf.fit(x_tr_scaled, y_tr)\n",
    "\n",
    "count=0 # count counts the number of labels that changed between the two runs!\n",
    "y_tst_2=clf.predict(x_tst_scaled)\n",
    "#scatter(nindex,y_tst_2,alpha=0.01, color='blue')\n",
    "#scatter(nindex,y_tst,alpha=0.01, color='red')\n",
    "y_tst_diff=y_tst_2-y_tst\n",
    "scatter(nindex,y_tst_diff,alpha=0.01, color='red')\n",
    "mylength=len(y_tst_diff)\n",
    "for i in myrange:\n",
    "    if y_tst_diff[i]!=0:\n",
    "        count+=1\n",
    "print(\"Change:\",count/mylength*100,\"% of the labels changed\")"
   ]
  },
  {
   "cell_type": "markdown",
   "metadata": {},
   "source": [
    "# Export result"
   ]
  },
  {
   "cell_type": "code",
   "execution_count": 152,
   "metadata": {
    "collapsed": false
   },
   "outputs": [],
   "source": [
    "index = []\n",
    "for i in arange(y_tst.size):\n",
    "    index.append(int(nindex[i]))\n",
    "\n",
    "y_tst_int = []\n",
    "for i in arange(y_tst.size):\n",
    "    y_tst_int.append(int(y_tst[i]))\n",
    "import csv\n",
    "with open('result3.csv', 'w') as fp:\n",
    "    a = csv.writer(fp, delimiter=',')\n",
    "    a.writerow(('Id','y'))\n",
    "    a.writerows(zip(index,y_tst_int))"
   ]
  }
 ],
 "metadata": {
  "kernelspec": {
   "display_name": "Python 3",
   "language": "python",
   "name": "python3"
  },
  "language_info": {
   "codemirror_mode": {
    "name": "ipython",
    "version": 3
   },
   "file_extension": ".py",
   "mimetype": "text/x-python",
   "name": "python",
   "nbconvert_exporter": "python",
   "pygments_lexer": "ipython3",
   "version": "3.5.1"
  }
 },
 "nbformat": 4,
 "nbformat_minor": 0
}
