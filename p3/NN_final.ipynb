{
 "cells": [
  {
   "cell_type": "code",
   "execution_count": 1,
   "metadata": {
    "collapsed": false
   },
   "outputs": [
    {
     "name": "stdout",
     "output_type": "stream",
     "text": [
      "Populating the interactive namespace from numpy and matplotlib\n"
     ]
    }
   ],
   "source": [
    "%pylab inline\n",
    "import h5py"
   ]
  },
  {
   "cell_type": "code",
   "execution_count": 2,
   "metadata": {
    "collapsed": false
   },
   "outputs": [
    {
     "name": "stdout",
     "output_type": "stream",
     "text": [
      "[u'train']\n",
      "[u'test']\n"
     ]
    }
   ],
   "source": [
    "f_train = h5py.File('train.h5','r')\n",
    "f_test = h5py.File('test.h5','r')\n",
    "print(f_train.keys())\n",
    "print(f_test.keys())"
   ]
  },
  {
   "cell_type": "code",
   "execution_count": 3,
   "metadata": {
    "collapsed": false
   },
   "outputs": [
    {
     "name": "stdout",
     "output_type": "stream",
     "text": [
      "[u'axis0', u'axis1', u'block0_items', u'block0_values', u'block1_items', u'block1_values']\n",
      "[u'axis0', u'axis1', u'block0_items', u'block0_values']\n"
     ]
    }
   ],
   "source": [
    "a_train = f_train['train']\n",
    "a_test = f_test['test']\n",
    "print(a_train.keys())\n",
    "print(a_test.keys())"
   ]
  },
  {
   "cell_type": "code",
   "execution_count": 4,
   "metadata": {
    "collapsed": false
   },
   "outputs": [
    {
     "data": {
      "text/plain": [
       "(45324, 1)"
      ]
     },
     "execution_count": 4,
     "metadata": {},
     "output_type": "execute_result"
    }
   ],
   "source": [
    "b = a_train['block1_values']\n",
    "b.shape"
   ]
  },
  {
   "cell_type": "code",
   "execution_count": 5,
   "metadata": {
    "collapsed": true
   },
   "outputs": [],
   "source": [
    "# axis0 -> Labels [shape (101,)]\n",
    "# axis1 -> id column [shape (45324,)]\n",
    "# block0_items -> traits labels [shape (100,)]\n",
    "# block0_values -> traits values [shape (45324,100)]\n",
    "# block1_items -> 'y' label\n",
    "# block1_values -> y column (without label) [shape (45324,1)]"
   ]
  },
  {
   "cell_type": "code",
   "execution_count": 6,
   "metadata": {
    "collapsed": false
   },
   "outputs": [],
   "source": [
    "X_tr = a_train['block0_values'][()]\n",
    "y_train = a_train['block1_values'][()]\n",
    "y_train = y_train[:,0]\n",
    "X_te = a_test['block0_values'][()]"
   ]
  },
  {
   "cell_type": "code",
   "execution_count": 7,
   "metadata": {
    "collapsed": true
   },
   "outputs": [],
   "source": [
    "#Preprocessing\n",
    "#Shuffle\n",
    "c = zip(y_train, X_tr)\n",
    "random.shuffle(c)\n",
    "y_train, X_tr = zip(*c)\n",
    "y_train = asarray(y_train)\n",
    "X_tr = asarray(X_tr)"
   ]
  },
  {
   "cell_type": "code",
   "execution_count": 8,
   "metadata": {
    "collapsed": true
   },
   "outputs": [],
   "source": [
    "X_tr, X_va = X_tr[:-5000], X_tr[-5000:]\n",
    "y_train, y_val = y_train[:-5000], y_train[-5000:]\n",
    "ids = a_test['axis1']"
   ]
  },
  {
   "cell_type": "code",
   "execution_count": null,
   "metadata": {
    "collapsed": false
   },
   "outputs": [],
   "source": []
  },
  {
   "cell_type": "code",
   "execution_count": 9,
   "metadata": {
    "collapsed": true
   },
   "outputs": [],
   "source": [
    "#Are there zero columns?\n",
    "def is_zero_vector(x):\n",
    "    count = 0\n",
    "    for i in arange(len(x)):\n",
    "        if x[i] == 0.:\n",
    "            count += 1\n",
    "    if count == len(x):\n",
    "        return True\n",
    "    return False"
   ]
  },
  {
   "cell_type": "code",
   "execution_count": 10,
   "metadata": {
    "collapsed": true
   },
   "outputs": [],
   "source": [
    "zero_i = list([])\n",
    "for k in arange(len(X_tr[0,:])):   \n",
    "    if is_zero_vector(X_tr[:,k]):\n",
    "        zero_i.append(k)\n",
    "X_tr = delete(X_tr, zero_i, 1)\n",
    "X_va = delete(X_va, zero_i, 1)\n",
    "X_te = delete(X_te, zero_i, 1)"
   ]
  },
  {
   "cell_type": "code",
   "execution_count": 11,
   "metadata": {
    "collapsed": false
   },
   "outputs": [
    {
     "name": "stdout",
     "output_type": "stream",
     "text": [
      "(40324, 90)\n",
      "(8137, 90)\n",
      "(5000, 90)\n"
     ]
    }
   ],
   "source": [
    "print(X_tr.shape)\n",
    "print(X_te.shape)\n",
    "print(X_va.shape)"
   ]
  },
  {
   "cell_type": "code",
   "execution_count": 12,
   "metadata": {
    "collapsed": false
   },
   "outputs": [],
   "source": [
    "X_tr -= np.mean(X_tr, axis = 0)\n",
    "X_va -= np.mean(X_tr, axis = 0)\n",
    "X_te -= np.mean(X_tr, axis = 0)\n",
    "X_tr /= np.std(X_tr, axis = 0)\n",
    "X_va /= np.std(X_tr, axis = 0)\n",
    "X_te /= np.std(X_tr, axis = 0)\n",
    "#print(is_zero_vector(X_tr[:,4]))\n",
    "#print(np.std(X_tr, axis = 0))\n",
    "#print(X_tr[:,4])"
   ]
  },
  {
   "cell_type": "raw",
   "metadata": {
    "collapsed": true
   },
   "source": [
    "#X_train_c = X_train.reshape(len(X_train),1,20,5)\n",
    "#X_val_c = X_val.reshape(len(X_val),1,20,5)\n",
    "#X_test_c = X_test.reshape(len(X_test),1,20,5) \n",
    "\n",
    "if len(X_tr[0,:]) == 91:\n",
    "    new_col = ones(len(X_tr))\n",
    "    new_col = new_col.reshape((len(X_tr),1))\n",
    "    X_train = np.append(new_col,X_tr, 1)\n",
    "if len(X_va[0,:]) == 91:\n",
    "    new_col = ones(len(X_va))\n",
    "    new_col = new_col.reshape((len(X_va),1))\n",
    "    X_val = np.append(new_col,X_va, 1)\n",
    "if len(X_te[0,:]) == 91:\n",
    "    new_col = ones(len(X_te))\n",
    "    new_col = new_col.reshape((len(X_te),1))\n",
    "    X_test = np.append(new_col,X_te, 1)"
   ]
  },
  {
   "cell_type": "code",
   "execution_count": 12,
   "metadata": {
    "collapsed": true
   },
   "outputs": [],
   "source": [
    "X_train = X_tr\n",
    "X_test = X_te\n",
    "X_val = X_va"
   ]
  },
  {
   "cell_type": "code",
   "execution_count": 13,
   "metadata": {
    "collapsed": false
   },
   "outputs": [
    {
     "name": "stdout",
     "output_type": "stream",
     "text": [
      "90\n",
      "0.0\n",
      "(40324, 90)\n",
      "<type 'numpy.ndarray'>\n"
     ]
    }
   ],
   "source": [
    "print(len(X_train[0,:]))\n",
    "print(X_train[1,0])\n",
    "print(X_train.shape)\n",
    "print(type(X_train))"
   ]
  },
  {
   "cell_type": "code",
   "execution_count": 14,
   "metadata": {
    "collapsed": false
   },
   "outputs": [
    {
     "data": {
      "text/plain": [
       "<matplotlib.collections.PathCollection at 0x105fe15d0>"
      ]
     },
     "execution_count": 14,
     "metadata": {},
     "output_type": "execute_result"
    },
    {
     "data": {
      "image/png": "[encoded data removed]",
      "text/plain": [
       "<matplotlib.figure.Figure at 0x105e91a10>"
      ]
     },
     "metadata": {},
     "output_type": "display_data"
    }
   ],
   "source": [
    "scatter(arange(100), y_train[0:100])"
   ]
  },
  {
   "cell_type": "code",
   "execution_count": 15,
   "metadata": {
    "collapsed": true
   },
   "outputs": [],
   "source": [
    "from theano import *\n",
    "import theano.tensor as T\n",
    "from __future__ import print_function\n",
    "import time\n",
    "import lasagne"
   ]
  },
  {
   "cell_type": "code",
   "execution_count": 16,
   "metadata": {
    "collapsed": true
   },
   "outputs": [],
   "source": [
    "def iterate_minibatches(inputs, targets, batchsize, shuffle=False):\n",
    "    assert len(inputs) == len(targets)\n",
    "    if shuffle:\n",
    "        indices = np.arange(len(inputs))\n",
    "        np.random.shuffle(indices)\n",
    "    for start_idx in range(0, len(inputs) - batchsize + 1, batchsize):\n",
    "        if shuffle:\n",
    "            excerpt = indices[start_idx:start_idx + batchsize]\n",
    "        else:\n",
    "            excerpt = slice(start_idx, start_idx + batchsize)\n",
    "        yield inputs[excerpt], targets[excerpt]"
   ]
  },
  {
   "cell_type": "code",
   "execution_count": 17,
   "metadata": {
    "collapsed": true
   },
   "outputs": [],
   "source": [
    "def train_NN(num_epochs=500, width = 100, d_i = 0.3, d_h = 0.5, l_r = 0.01, la1p = 0.1, la2p = 0.1, la3p = 0.5):\n",
    "    \n",
    "    input_var = T.matrix('inputs')\n",
    "    target_var = T.ivector('targets')\n",
    "    \n",
    "    print(\"Building model and compiling functions...\")\n",
    "    \n",
    "    layer_in = lasagne.layers.InputLayer(shape=(None, 90), input_var=input_var)\n",
    "    if d_i:\n",
    "        layer_in = lasagne.layers.dropout(layer_in, p=d_i)\n",
    "    \n",
    "    # Hidden layers and dropout:\n",
    "    \n",
    "    nonlin = lasagne.nonlinearities.rectify\n",
    "    layer1 = lasagne.layers.DenseLayer(layer_in, width, nonlinearity=nonlin)\n",
    "    if d_h:\n",
    "        layer1 = lasagne.layers.dropout(layer1, p=d_h)\n",
    "        \n",
    "    #layer2 = lasagne.layers.DenseLayer(layer1, width, nonlinearity=nonlin)\n",
    "    #if d_h:\n",
    "    #    layer2 = lasagne.layers.dropout(layer2, p=d_h)\n",
    "        \n",
    "    #layer3 = lasagne.layers.DenseLayer(layer2, width, nonlinearity=nonlin)\n",
    "    #if d_h:\n",
    "    #    layer3 = lasagne.layers.dropout(layer3, p=d_h)\n",
    "        \n",
    "    #layer4 = lasagne.layers.DenseLayer(layer3, width, nonlinearity=nonlin)\n",
    "    #if d_h:\n",
    "    #    layer4 = lasagne.layers.dropout(layer4, p=d_h)\n",
    "        \n",
    "    # Output layer:\n",
    "    softmax = lasagne.nonlinearities.softmax\n",
    "    network = lasagne.layers.DenseLayer(layer1, 5, nonlinearity=softmax)\n",
    "    \n",
    "    # Create a loss expression for training, i.e., a scalar objective we want\n",
    "    # to minimize (for our multi-class problem, it is the cross-entropy loss):\n",
    "    \n",
    "    prediction = lasagne.layers.get_output(network)\n",
    "    loss = lasagne.objectives.categorical_crossentropy(prediction, target_var)\n",
    "    #layers = {layer1: la1p, layer2: la2p, network: la3p}\n",
    "    #l2_penalty_1 = lasagne.regularization.regularize_layer_params_weighted({layer1:la1p}, lasagne.regularization.l2)\n",
    "    #l2_penalty = lasagne.regularization.regularize_layer_params(network, lasagne.regularization.l2)*1e-03\n",
    "    #loss = loss.mean() + l2_penalty + l1_penalty\n",
    "    loss = loss.mean()\n",
    "    \n",
    "    # We could add some weight decay as well here, see lasagne.regularization.\n",
    "\n",
    "    # Create update expressions for training, i.e., how to modify the\n",
    "    # parameters at each training step. Here, we'll use Stochastic Gradient\n",
    "    # Descent (SGD) with Nesterov momentum, but Lasagne offers plenty more.\n",
    "    \n",
    "    params = lasagne.layers.get_all_params(network, trainable=True)\n",
    "    updates = lasagne.updates.nesterov_momentum(loss, params, learning_rate=l_r, momentum=0.7)\n",
    "    \n",
    "    # Create a loss expression for validation/testing. The crucial difference\n",
    "    # here is that we do a deterministic forward pass through the network,\n",
    "    # disabling dropout layers.\n",
    "    \n",
    "    test_prediction = lasagne.layers.get_output(network, deterministic=True)\n",
    "    test_loss = lasagne.objectives.categorical_crossentropy(test_prediction,target_var)\n",
    "    #test_loss = test_loss.mean() + l2_penalty + l1_penalty\n",
    "    test_loss = test_loss.mean()\n",
    "    \n",
    "    # As a bonus, also create an expression for the classification accuracy:\n",
    "    \n",
    "    test_acc = T.mean(T.eq(T.argmax(test_prediction, axis=1), target_var),dtype=theano.config.floatX)\n",
    "\n",
    "    # Compile a function performing a training step on a mini-batch (by giving\n",
    "    # the updates dictionary) and returning the corresponding training loss:\n",
    "    train_fn = theano.function([input_var, target_var], loss, updates=updates, allow_input_downcast=True)\n",
    "\n",
    "    # Compile a second function computing the validation loss and accuracy:\n",
    "    val_fn = theano.function([input_var, target_var], [test_loss, test_acc], allow_input_downcast=True)\n",
    "\n",
    "    # Finally, launch the training loop.\n",
    "    print(\"Starting training...\")\n",
    "    # We iterate over epochs:\n",
    "    global percs\n",
    "    percs = array([])\n",
    "    for epoch in range(num_epochs):\n",
    "        # In each epoch, we do a full pass over the training data:\n",
    "        train_err = 0\n",
    "        train_batches = 0\n",
    "        start_time = time.time()\n",
    "        \n",
    "        for batch in iterate_minibatches(X_train, y_train, 500, shuffle=True):\n",
    "            inputs, targets = batch\n",
    "            train_err += train_fn(inputs, targets)\n",
    "            train_batches += 1\n",
    "\n",
    "        # And a full pass over the validation data:\n",
    "        val_err = 0\n",
    "        val_acc = 0\n",
    "        val_batches = 0\n",
    "        for batch in iterate_minibatches(X_val, y_val, 500, shuffle=False):\n",
    "            inputs, targets = batch\n",
    "            err, acc = val_fn(inputs, targets)\n",
    "            val_err += err\n",
    "            val_acc += acc\n",
    "            val_batches += 1\n",
    "\n",
    "        # Then we print the results for this epoch:\n",
    "        print(\"Epoch {} of {} took {:.3f}s\".format(epoch + 1, num_epochs, time.time() - start_time))\n",
    "        print(\"  training loss:\\t\\t{:.6f}\".format(train_err / train_batches))\n",
    "        print(\"  validation loss:\\t\\t{:.6f}\".format(val_err / val_batches))\n",
    "        perc = val_acc / val_batches\n",
    "        percs = append(percs, perc)\n",
    "        print(\"  validation accuracy:\\t\\t{:.2f} %\".format(perc * 100))\n",
    "\n",
    "    # After training, we compute and print the test error:\n",
    "    test_err = 0\n",
    "    test_acc = 0\n",
    "    test_batches = 0\n",
    "    for batch in iterate_minibatches(X_test, zeros(len(X_test)), 500, shuffle=False):\n",
    "        inputs, targets = batch\n",
    "        err, acc = val_fn(inputs, targets)\n",
    "        test_err += err\n",
    "        test_acc += acc\n",
    "        test_batches += 1\n",
    "    print(\"Final results:\")\n",
    "    print(\"  test loss:\\t\\t\\t{:.6f}\".format(test_err / test_batches))\n",
    "    print(\"  test accuracy:\\t\\t{:.2f} %\".format(\n",
    "        test_acc / test_batches * 100))\n",
    "    print(\"Percentages average:\\t\\t\\t{:.5f}\".format(mean(percs)))\n",
    "    print(\"\\a\")\n",
    "    global result\n",
    "    result = lasagne.layers.get_output(network, X_test)"
   ]
  },
  {
   "cell_type": "code",
   "execution_count": null,
   "metadata": {
    "collapsed": false,
    "scrolled": true
   },
   "outputs": [
    {
     "name": "stdout",
     "output_type": "stream",
     "text": [
      "Building model and compiling functions...\n",
      "Starting training...\n",
      "Epoch 1 of 500 took 0.757s\n",
      "  training loss:\t\t0.815702\n",
      "  validation loss:\t\t0.557968\n",
      "  validation accuracy:\t\t81.04 %\n",
      "Epoch 2 of 500 took 0.729s\n",
      "  training loss:\t\t0.535791\n",
      "  validation loss:\t\t0.455412\n",
      "  validation accuracy:\t\t84.72 %\n",
      "Epoch 3 of 500 took 0.739s\n",
      "  training loss:\t\t0.456738\n",
      "  validation loss:\t\t0.398103\n",
      "  validation accuracy:\t\t87.00 %\n",
      "Epoch 4 of 500 took 0.776s\n",
      "  training loss:\t\t0.408175\n",
      "  validation loss:\t\t0.362540\n",
      "  validation accuracy:\t\t88.16 %\n",
      "Epoch 5 of 500 took 0.739s\n",
      "  training loss:\t\t0.375636\n",
      "  validation loss:\t\t0.333460\n",
      "  validation accuracy:\t\t89.14 %\n",
      "Epoch 6 of 500 took 0.745s\n",
      "  training loss:\t\t0.351001\n",
      "  validation loss:\t\t0.318163\n",
      "  validation accuracy:\t\t89.54 %\n",
      "Epoch 7 of 500 took 0.735s\n",
      "  training loss:\t\t0.333355\n",
      "  validation loss:\t\t0.300175\n",
      "  validation accuracy:\t\t90.18 %\n",
      "Epoch 8 of 500 took 0.791s\n",
      "  training loss:\t\t0.317092\n",
      "  validation loss:\t\t0.286455\n",
      "  validation accuracy:\t\t90.92 %\n",
      "Epoch 9 of 500 took 0.730s\n",
      "  training loss:\t\t0.304449\n",
      "  validation loss:\t\t0.275668\n",
      "  validation accuracy:\t\t91.16 %\n",
      "Epoch 10 of 500 took 0.720s\n",
      "  training loss:\t\t0.295597\n",
      "  validation loss:\t\t0.265007\n",
      "  validation accuracy:\t\t91.46 %\n",
      "Epoch 11 of 500 took 0.741s\n",
      "  training loss:\t\t0.284355\n",
      "  validation loss:\t\t0.256470\n",
      "  validation accuracy:\t\t91.76 %\n",
      "Epoch 12 of 500 took 0.718s\n",
      "  training loss:\t\t0.276478\n",
      "  validation loss:\t\t0.251254\n",
      "  validation accuracy:\t\t91.88 %\n",
      "Epoch 13 of 500 took 0.717s\n",
      "  training loss:\t\t0.270181\n",
      "  validation loss:\t\t0.244113\n",
      "  validation accuracy:\t\t92.32 %\n",
      "Epoch 14 of 500 took 0.724s\n",
      "  training loss:\t\t0.264575\n",
      "  validation loss:\t\t0.240547\n",
      "  validation accuracy:\t\t92.42 %\n",
      "Epoch 15 of 500 took 0.718s\n",
      "  training loss:\t\t0.257365\n",
      "  validation loss:\t\t0.233597\n",
      "  validation accuracy:\t\t92.60 %\n",
      "Epoch 16 of 500 took 0.717s\n",
      "  training loss:\t\t0.249739\n",
      "  validation loss:\t\t0.229226\n",
      "  validation accuracy:\t\t92.70 %\n",
      "Epoch 17 of 500 took 0.721s\n",
      "  training loss:\t\t0.245815\n",
      "  validation loss:\t\t0.225192\n",
      "  validation accuracy:\t\t92.82 %\n",
      "Epoch 18 of 500 took 0.723s\n",
      "  training loss:\t\t0.240666\n",
      "  validation loss:\t\t0.221111\n",
      "  validation accuracy:\t\t92.86 %\n",
      "Epoch 19 of 500 took 0.717s\n",
      "  training loss:\t\t0.236076\n",
      "  validation loss:\t\t0.216499\n",
      "  validation accuracy:\t\t93.08 %\n",
      "Epoch 20 of 500 took 0.719s\n",
      "  training loss:\t\t0.231897\n",
      "  validation loss:\t\t0.214163\n",
      "  validation accuracy:\t\t93.14 %\n",
      "Epoch 21 of 500 took 0.721s\n",
      "  training loss:\t\t0.229812\n",
      "  validation loss:\t\t0.212466\n",
      "  validation accuracy:\t\t93.16 %\n",
      "Epoch 22 of 500 took 0.716s\n",
      "  training loss:\t\t0.223103\n",
      "  validation loss:\t\t0.208907\n",
      "  validation accuracy:\t\t93.22 %\n",
      "Epoch 23 of 500 took 0.719s\n",
      "  training loss:\t\t0.220587\n",
      "  validation loss:\t\t0.205429\n",
      "  validation accuracy:\t\t93.26 %\n",
      "Epoch 24 of 500 took 0.726s\n",
      "  training loss:\t\t0.218345\n",
      "  validation loss:\t\t0.203241\n",
      "  validation accuracy:\t\t93.46 %\n",
      "Epoch 25 of 500 took 0.719s\n",
      "  training loss:\t\t0.216308\n",
      "  validation loss:\t\t0.201071\n",
      "  validation accuracy:\t\t93.52 %\n",
      "Epoch 26 of 500 took 0.722s\n",
      "  training loss:\t\t0.211702\n",
      "  validation loss:\t\t0.198386\n",
      "  validation accuracy:\t\t93.52 %\n",
      "Epoch 27 of 500 took 0.721s\n",
      "  training loss:\t\t0.209283\n",
      "  validation loss:\t\t0.196325\n",
      "  validation accuracy:\t\t93.54 %\n",
      "Epoch 28 of 500 took 0.720s\n",
      "  training loss:\t\t0.206380\n",
      "  validation loss:\t\t0.193832\n",
      "  validation accuracy:\t\t93.72 %\n",
      "Epoch 29 of 500 took 0.722s\n",
      "  training loss:\t\t0.203053\n",
      "  validation loss:\t\t0.192432\n",
      "  validation accuracy:\t\t93.66 %\n",
      "Epoch 30 of 500 took 0.725s\n",
      "  training loss:\t\t0.202556\n",
      "  validation loss:\t\t0.190366\n",
      "  validation accuracy:\t\t93.68 %\n",
      "Epoch 31 of 500 took 0.720s\n",
      "  training loss:\t\t0.200073\n",
      "  validation loss:\t\t0.189874\n",
      "  validation accuracy:\t\t93.98 %\n",
      "Epoch 32 of 500 took 0.727s\n",
      "  training loss:\t\t0.196719\n",
      "  validation loss:\t\t0.187055\n",
      "  validation accuracy:\t\t93.94 %\n",
      "Epoch 33 of 500 took 0.725s\n",
      "  training loss:\t\t0.196191\n",
      "  validation loss:\t\t0.185709\n",
      "  validation accuracy:\t\t94.08 %\n",
      "Epoch 34 of 500 took 0.720s\n",
      "  training loss:\t\t0.193972\n",
      "  validation loss:\t\t0.183361\n",
      "  validation accuracy:\t\t94.02 %\n",
      "Epoch 35 of 500 took 0.725s\n",
      "  training loss:\t\t0.192766\n",
      "  validation loss:\t\t0.182692\n",
      "  validation accuracy:\t\t94.08 %\n",
      "Epoch 36 of 500 took 0.727s\n",
      "  training loss:\t\t0.189004\n",
      "  validation loss:\t\t0.180720\n",
      "  validation accuracy:\t\t94.06 %\n",
      "Epoch 37 of 500 took 0.727s\n",
      "  training loss:\t\t0.185402\n",
      "  validation loss:\t\t0.179447\n",
      "  validation accuracy:\t\t94.16 %\n",
      "Epoch 38 of 500 took 0.728s\n",
      "  training loss:\t\t0.185069\n",
      "  validation loss:\t\t0.178699\n",
      "  validation accuracy:\t\t94.24 %\n",
      "Epoch 39 of 500 took 0.721s\n",
      "  training loss:\t\t0.187262\n",
      "  validation loss:\t\t0.176036\n",
      "  validation accuracy:\t\t94.36 %\n",
      "Epoch 40 of 500 took 0.725s\n",
      "  training loss:\t\t0.181757\n",
      "  validation loss:\t\t0.176094\n",
      "  validation accuracy:\t\t94.36 %\n",
      "Epoch 41 of 500 took 0.727s\n",
      "  training loss:\t\t0.180927\n",
      "  validation loss:\t\t0.174010\n",
      "  validation accuracy:\t\t94.48 %\n",
      "Epoch 42 of 500 took 0.725s\n",
      "  training loss:\t\t0.180408\n",
      "  validation loss:\t\t0.174640\n",
      "  validation accuracy:\t\t94.36 %\n",
      "Epoch 43 of 500 took 0.725s\n",
      "  training loss:\t\t0.177661\n",
      "  validation loss:\t\t0.171783\n",
      "  validation accuracy:\t\t94.50 %\n",
      "Epoch 44 of 500 took 0.723s\n",
      "  training loss:\t\t0.176868\n",
      "  validation loss:\t\t0.170793\n",
      "  validation accuracy:\t\t94.58 %\n",
      "Epoch 45 of 500 took 0.727s\n",
      "  training loss:\t\t0.176787\n",
      "  validation loss:\t\t0.170964\n",
      "  validation accuracy:\t\t94.64 %\n",
      "Epoch 46 of 500 took 0.732s\n",
      "  training loss:\t\t0.174678\n",
      "  validation loss:\t\t0.169240\n",
      "  validation accuracy:\t\t94.52 %\n",
      "Epoch 47 of 500 took 0.723s\n",
      "  training loss:\t\t0.173184\n",
      "  validation loss:\t\t0.168162\n",
      "  validation accuracy:\t\t94.66 %\n",
      "Epoch 48 of 500 took 0.728s\n",
      "  training loss:\t\t0.172336\n",
      "  validation loss:\t\t0.167705\n",
      "  validation accuracy:\t\t94.64 %\n",
      "Epoch 49 of 500 took 0.726s\n",
      "  training loss:\t\t0.170745\n",
      "  validation loss:\t\t0.166440\n",
      "  validation accuracy:\t\t94.60 %\n",
      "Epoch 50 of 500 took 0.725s\n",
      "  training loss:\t\t0.166542\n",
      "  validation loss:\t\t0.165446\n",
      "  validation accuracy:\t\t94.68 %\n",
      "Epoch 51 of 500 took 0.723s\n",
      "  training loss:\t\t0.167411\n",
      "  validation loss:\t\t0.164407\n",
      "  validation accuracy:\t\t94.68 %\n",
      "Epoch 52 of 500 took 0.730s\n",
      "  training loss:\t\t0.163634\n",
      "  validation loss:\t\t0.164718\n",
      "  validation accuracy:\t\t94.60 %\n",
      "Epoch 53 of 500 took 0.739s\n",
      "  training loss:\t\t0.163451\n",
      "  validation loss:\t\t0.162992\n",
      "  validation accuracy:\t\t94.66 %\n",
      "Epoch 54 of 500 took 0.727s\n",
      "  training loss:\t\t0.163675\n",
      "  validation loss:\t\t0.162573\n",
      "  validation accuracy:\t\t94.86 %\n",
      "Epoch 55 of 500 took 0.725s\n",
      "  training loss:\t\t0.164623\n",
      "  validation loss:\t\t0.161794\n",
      "  validation accuracy:\t\t94.76 %\n",
      "Epoch 56 of 500 took 0.724s\n",
      "  training loss:\t\t0.161287\n",
      "  validation loss:\t\t0.160384\n",
      "  validation accuracy:\t\t94.92 %\n",
      "Epoch 57 of 500 took 0.725s\n",
      "  training loss:\t\t0.160094\n",
      "  validation loss:\t\t0.162223\n",
      "  validation accuracy:\t\t94.76 %\n",
      "Epoch 58 of 500 took 0.728s\n",
      "  training loss:\t\t0.158704\n",
      "  validation loss:\t\t0.160204\n",
      "  validation accuracy:\t\t94.86 %\n",
      "Epoch 59 of 500 took 0.730s\n",
      "  training loss:\t\t0.158222\n",
      "  validation loss:\t\t0.159456\n",
      "  validation accuracy:\t\t94.88 %\n",
      "Epoch 60 of 500 took 0.727s\n",
      "  training loss:\t\t0.160241\n",
      "  validation loss:\t\t0.158319\n",
      "  validation accuracy:\t\t94.84 %\n",
      "Epoch 61 of 500 took 0.728s\n",
      "  training loss:\t\t0.156749\n",
      "  validation loss:\t\t0.157673\n",
      "  validation accuracy:\t\t94.98 %\n",
      "Epoch 62 of 500 took 0.724s\n",
      "  training loss:\t\t0.156262\n",
      "  validation loss:\t\t0.158014\n",
      "  validation accuracy:\t\t94.98 %\n",
      "Epoch 63 of 500 took 0.725s\n",
      "  training loss:\t\t0.154836\n",
      "  validation loss:\t\t0.156152\n",
      "  validation accuracy:\t\t95.00 %\n",
      "Epoch 64 of 500 took 0.726s\n",
      "  training loss:\t\t0.154280\n",
      "  validation loss:\t\t0.157360\n",
      "  validation accuracy:\t\t94.96 %\n",
      "Epoch 65 of 500 took 0.726s\n",
      "  training loss:\t\t0.153143\n",
      "  validation loss:\t\t0.156221\n",
      "  validation accuracy:\t\t95.04 %\n",
      "Epoch 66 of 500 took 0.730s\n",
      "  training loss:\t\t0.151267\n",
      "  validation loss:\t\t0.155423\n",
      "  validation accuracy:\t\t94.96 %\n",
      "Epoch 67 of 500 took 0.725s\n",
      "  training loss:\t\t0.153208\n",
      "  validation loss:\t\t0.155512\n",
      "  validation accuracy:\t\t95.14 %\n",
      "Epoch 68 of 500 took 0.734s\n",
      "  training loss:\t\t0.150088\n",
      "  validation loss:\t\t0.153736\n",
      "  validation accuracy:\t\t95.12 %\n",
      "Epoch 69 of 500 took 0.735s\n",
      "  training loss:\t\t0.150105\n",
      "  validation loss:\t\t0.153973\n",
      "  validation accuracy:\t\t95.08 %\n",
      "Epoch 70 of 500 took 0.727s\n",
      "  training loss:\t\t0.149601\n",
      "  validation loss:\t\t0.153825\n",
      "  validation accuracy:\t\t95.12 %\n",
      "Epoch 71 of 500 took 0.724s\n",
      "  training loss:\t\t0.146007\n",
      "  validation loss:\t\t0.153154\n",
      "  validation accuracy:\t\t95.08 %\n",
      "Epoch 72 of 500 took 0.727s\n",
      "  training loss:\t\t0.147138\n",
      "  validation loss:\t\t0.151975\n",
      "  validation accuracy:\t\t95.22 %\n",
      "Epoch 73 of 500 took 0.734s\n",
      "  training loss:\t\t0.147029\n",
      "  validation loss:\t\t0.151285\n",
      "  validation accuracy:\t\t95.22 %\n",
      "Epoch 74 of 500 took 0.726s\n",
      "  training loss:\t\t0.144055\n",
      "  validation loss:\t\t0.151885\n",
      "  validation accuracy:\t\t95.30 %\n",
      "Epoch 75 of 500 took 0.728s\n",
      "  training loss:\t\t0.147318\n",
      "  validation loss:\t\t0.151361\n",
      "  validation accuracy:\t\t95.08 %\n",
      "Epoch 76 of 500 took 0.728s\n",
      "  training loss:\t\t0.142299\n",
      "  validation loss:\t\t0.150478\n",
      "  validation accuracy:\t\t95.20 %\n",
      "Epoch 77 of 500 took 0.726s\n",
      "  training loss:\t\t0.143575\n",
      "  validation loss:\t\t0.150999\n",
      "  validation accuracy:\t\t95.26 %\n",
      "Epoch 78 of 500 took 0.727s\n",
      "  training loss:\t\t0.142128\n",
      "  validation loss:\t\t0.149985\n",
      "  validation accuracy:\t\t95.28 %\n",
      "Epoch 79 of 500 took 0.730s\n",
      "  training loss:\t\t0.139712\n",
      "  validation loss:\t\t0.148542\n",
      "  validation accuracy:\t\t95.24 %\n",
      "Epoch 80 of 500 took 0.725s\n",
      "  training loss:\t\t0.141487\n",
      "  validation loss:\t\t0.148683\n",
      "  validation accuracy:\t\t95.22 %\n",
      "Epoch 81 of 500 took 0.725s\n",
      "  training loss:\t\t0.143453\n",
      "  validation loss:\t\t0.149107\n",
      "  validation accuracy:\t\t95.26 %\n",
      "Epoch 82 of 500 took 0.727s\n",
      "  training loss:\t\t0.139645\n",
      "  validation loss:\t\t0.148969\n",
      "  validation accuracy:\t\t95.24 %\n",
      "Epoch 83 of 500 took 0.726s\n",
      "  training loss:\t\t0.138564\n",
      "  validation loss:\t\t0.148102\n",
      "  validation accuracy:\t\t95.36 %\n",
      "Epoch 84 of 500 took 0.728s\n",
      "  training loss:\t\t0.140217\n",
      "  validation loss:\t\t0.146840\n",
      "  validation accuracy:\t\t95.30 %\n",
      "Epoch 85 of 500 took 0.729s\n",
      "  training loss:\t\t0.138570\n",
      "  validation loss:\t\t0.146964\n",
      "  validation accuracy:\t\t95.30 %\n",
      "Epoch 86 of 500 took 0.786s\n",
      "  training loss:\t\t0.137668\n",
      "  validation loss:\t\t0.147716\n",
      "  validation accuracy:\t\t95.32 %\n",
      "Epoch 87 of 500 took 0.755s\n",
      "  training loss:\t\t0.135918\n",
      "  validation loss:\t\t0.146094\n",
      "  validation accuracy:\t\t95.36 %\n",
      "Epoch 88 of 500 took 0.791s\n",
      "  training loss:\t\t0.136442\n",
      "  validation loss:\t\t0.146439\n",
      "  validation accuracy:\t\t95.52 %\n",
      "Epoch 89 of 500 took 0.933s\n",
      "  training loss:\t\t0.137643\n",
      "  validation loss:\t\t0.147613\n",
      "  validation accuracy:\t\t95.44 %\n",
      "Epoch 90 of 500 took 0.781s\n",
      "  training loss:\t\t0.134586\n",
      "  validation loss:\t\t0.146797\n",
      "  validation accuracy:\t\t95.38 %\n",
      "Epoch 91 of 500 took 0.780s\n",
      "  training loss:\t\t0.134907\n",
      "  validation loss:\t\t0.146223\n",
      "  validation accuracy:\t\t95.36 %\n",
      "Epoch 92 of 500 took 0.782s\n",
      "  training loss:\t\t0.133394\n",
      "  validation loss:\t\t0.145629\n",
      "  validation accuracy:\t\t95.54 %\n",
      "Epoch 93 of 500 took 0.835s\n",
      "  training loss:\t\t0.132704\n",
      "  validation loss:\t\t0.145740\n",
      "  validation accuracy:\t\t95.52 %\n",
      "Epoch 94 of 500 took 0.758s\n",
      "  training loss:\t\t0.134438\n",
      "  validation loss:\t\t0.144438\n",
      "  validation accuracy:\t\t95.52 %\n",
      "Epoch 95 of 500 took 0.856s\n",
      "  training loss:\t\t0.132847\n",
      "  validation loss:\t\t0.146040\n",
      "  validation accuracy:\t\t95.42 %\n",
      "Epoch 96 of 500 took 0.771s\n",
      "  training loss:\t\t0.133594\n",
      "  validation loss:\t\t0.144031\n",
      "  validation accuracy:\t\t95.54 %\n",
      "Epoch 97 of 500 took 0.790s\n",
      "  training loss:\t\t0.133930\n",
      "  validation loss:\t\t0.144331\n",
      "  validation accuracy:\t\t95.56 %\n",
      "Epoch 98 of 500 took 0.802s\n",
      "  training loss:\t\t0.131611\n",
      "  validation loss:\t\t0.144838\n",
      "  validation accuracy:\t\t95.58 %\n",
      "Epoch 99 of 500 took 0.809s\n",
      "  training loss:\t\t0.129942\n",
      "  validation loss:\t\t0.143263\n",
      "  validation accuracy:\t\t95.54 %\n",
      "Epoch 100 of 500 took 0.891s\n",
      "  training loss:\t\t0.130852\n",
      "  validation loss:\t\t0.143853\n",
      "  validation accuracy:\t\t95.58 %\n",
      "Epoch 101 of 500 took 0.859s\n",
      "  training loss:\t\t0.131520\n",
      "  validation loss:\t\t0.144784\n",
      "  validation accuracy:\t\t95.60 %\n",
      "Epoch 102 of 500 took 0.791s\n",
      "  training loss:\t\t0.130335\n",
      "  validation loss:\t\t0.143207\n",
      "  validation accuracy:\t\t95.50 %\n",
      "Epoch 103 of 500 took 0.722s\n",
      "  training loss:\t\t0.128759\n",
      "  validation loss:\t\t0.142612\n",
      "  validation accuracy:\t\t95.62 %\n",
      "Epoch 104 of 500 took 0.715s\n",
      "  training loss:\t\t0.128236\n",
      "  validation loss:\t\t0.143699\n",
      "  validation accuracy:\t\t95.54 %\n",
      "Epoch 105 of 500 took 0.777s\n",
      "  training loss:\t\t0.129262\n",
      "  validation loss:\t\t0.142572\n",
      "  validation accuracy:\t\t95.56 %\n",
      "Epoch 106 of 500 took 0.746s\n",
      "  training loss:\t\t0.127426\n",
      "  validation loss:\t\t0.142334\n",
      "  validation accuracy:\t\t95.54 %\n",
      "Epoch 107 of 500 took 0.793s\n",
      "  training loss:\t\t0.126730\n",
      "  validation loss:\t\t0.142643\n",
      "  validation accuracy:\t\t95.66 %\n",
      "Epoch 108 of 500 took 0.784s"
     ]
    }
   ],
   "source": [
    "train_NN(num_epochs=500, width = 250, d_i = 0.0, d_h = 0.3, l_r = 0.1, la1p = 0.5, la2p = 0.5, la3p = 0.1)"
   ]
  },
  {
   "cell_type": "code",
   "execution_count": 52,
   "metadata": {
    "collapsed": false
   },
   "outputs": [
    {
     "data": {
      "text/plain": [
       "<matplotlib.collections.PathCollection at 0x109406dd0>"
      ]
     },
     "execution_count": 52,
     "metadata": {},
     "output_type": "execute_result"
    },
    {
     "data": {
      "image/png": "[encoded data removed]",
      "text/plain": [
       "<matplotlib.figure.Figure at 0x1093cd0d0>"
      ]
     },
     "metadata": {},
     "output_type": "display_data"
    }
   ],
   "source": [
    "scatter(arange(len(percs)),percs)\n",
    "#axis([70,100,0.95,0.97])"
   ]
  },
  {
   "cell_type": "code",
   "execution_count": 40,
   "metadata": {
    "collapsed": false
   },
   "outputs": [
    {
     "data": {
      "text/plain": [
       "array([[  9.45289123e-04,   4.16282240e-06,   1.55890373e-03,\n",
       "          1.51584612e-02,   9.82333183e-01],\n",
       "       [  6.41078544e-05,   1.15944147e-05,   3.94361101e-03,\n",
       "          9.92972350e-01,   3.00833635e-03],\n",
       "       [  2.29302282e-06,   2.05890034e-07,   1.34860434e-08,\n",
       "          9.98882537e-01,   1.11495060e-03],\n",
       "       ..., \n",
       "       [  9.99998941e-01,   1.02575717e-06,   9.48466298e-09,\n",
       "          2.33652377e-08,   8.40457360e-11],\n",
       "       [  9.99265273e-01,   1.65950219e-12,   2.97441426e-07,\n",
       "          3.88295303e-04,   3.46134035e-04],\n",
       "       [  1.43828707e-04,   9.86642872e-08,   9.77322786e-01,\n",
       "          9.54002204e-04,   2.15792843e-02]])"
      ]
     },
     "execution_count": 40,
     "metadata": {},
     "output_type": "execute_result"
    }
   ],
   "source": [
    "final = result.eval()\n",
    "final"
   ]
  },
  {
   "cell_type": "code",
   "execution_count": 41,
   "metadata": {
    "collapsed": false
   },
   "outputs": [
    {
     "data": {
      "text/plain": [
       "1.0"
      ]
     },
     "execution_count": 41,
     "metadata": {},
     "output_type": "execute_result"
    }
   ],
   "source": [
    "sum(final[0,:])"
   ]
  },
  {
   "cell_type": "code",
   "execution_count": 48,
   "metadata": {
    "collapsed": false
   },
   "outputs": [
    {
     "name": "stdout",
     "output_type": "stream",
     "text": [
      "0.2735 index: 6090\n"
     ]
    }
   ],
   "source": [
    "y_output = list([])\n",
    "p_output = list([])\n",
    "for i in arange(len(final)):\n",
    "    my_list = final[i,:]\n",
    "    max_index = my_list.argmax()\n",
    "    p_output.append(my_list[max_index])\n",
    "    y_output.append(max_index)\n",
    "p_output = asarray(p_output)\n",
    "mini = p_output.argmin()\n",
    "print('{:.4f} index: {:d}'.format(p_output[mini],mini)) "
   ]
  },
  {
   "cell_type": "code",
   "execution_count": 43,
   "metadata": {
    "collapsed": false
   },
   "outputs": [
    {
     "data": {
      "text/plain": [
       "8137"
      ]
     },
     "execution_count": 43,
     "metadata": {},
     "output_type": "execute_result"
    }
   ],
   "source": [
    "len(y_output)"
   ]
  },
  {
   "cell_type": "code",
   "execution_count": 44,
   "metadata": {
    "collapsed": true
   },
   "outputs": [],
   "source": [
    "import csv\n",
    "with open('result15.csv', 'wb') as fp:\n",
    "    a = csv.writer(fp, delimiter=',')\n",
    "    a.writerow(('Id','y'))\n",
    "    a.writerows(zip(ids,y_output))"
   ]
  },
  {
   "cell_type": "code",
   "execution_count": null,
   "metadata": {
    "collapsed": true
   },
   "outputs": [],
   "source": []
  }
 ],
 "metadata": {
  "kernelspec": {
   "display_name": "Python 2",
   "language": "python",
   "name": "python2"
  },
  "language_info": {
   "codemirror_mode": {
    "name": "ipython",
    "version": 2
   },
   "file_extension": ".py",
   "mimetype": "text/x-python",
   "name": "python",
   "nbconvert_exporter": "python",
   "pygments_lexer": "ipython2",
   "version": "2.7.11"
  }
 },
 "nbformat": 4,
 "nbformat_minor": 0
}
