{
 "cells": [
  {
   "cell_type": "markdown",
   "metadata": {},
   "source": [
    "# Loading the data"
   ]
  },
  {
   "cell_type": "code",
   "execution_count": 1,
   "metadata": {
    "collapsed": false
   },
   "outputs": [
    {
     "name": "stdout",
     "output_type": "stream",
     "text": [
      "Populating the interactive namespace from numpy and matplotlib\n"
     ]
    }
   ],
   "source": [
    "%pylab inline\n",
    "import h5py"
   ]
  },
  {
   "cell_type": "code",
   "execution_count": 2,
   "metadata": {
    "collapsed": false
   },
   "outputs": [
    {
     "name": "stdout",
     "output_type": "stream",
     "text": [
      "KeysView(<HDF5 file \"train_labeled.h5\" (mode r)>)\n",
      "KeysView(<HDF5 file \"train_unlabeled.h5\" (mode r)>)\n",
      "KeysView(<HDF5 file \"test.h5\" (mode r)>)\n"
     ]
    }
   ],
   "source": [
    "f_train_l = h5py.File('train_labeled.h5','r')\n",
    "f_train_ul = h5py.File('train_unlabeled.h5','r')\n",
    "f_test = h5py.File('test.h5','r')\n",
    "print(f_train_l.keys())\n",
    "print(f_train_ul.keys())\n",
    "print(f_test.keys())"
   ]
  },
  {
   "cell_type": "code",
   "execution_count": 3,
   "metadata": {
    "collapsed": false
   },
   "outputs": [
    {
     "name": "stdout",
     "output_type": "stream",
     "text": [
      "KeysView(<HDF5 group \"/train\" (6 members)>)\n",
      "KeysView(<HDF5 group \"/train\" (4 members)>)\n",
      "KeysView(<HDF5 group \"/test\" (4 members)>)\n"
     ]
    }
   ],
   "source": [
    "a_train_l = f_train_l['train']\n",
    "a_train_ul = f_train_ul['train']\n",
    "a_test = f_test['test']\n",
    "print(a_train_l.keys())\n",
    "print(a_train_ul.keys())\n",
    "print(a_test.keys())"
   ]
  },
  {
   "cell_type": "code",
   "execution_count": 4,
   "metadata": {
    "collapsed": false
   },
   "outputs": [
    {
     "data": {
      "text/plain": [
       "(21000, 128)"
      ]
     },
     "execution_count": 4,
     "metadata": {},
     "output_type": "execute_result"
    }
   ],
   "source": [
    "b = a_train_ul['block0_values']\n",
    "b.shape"
   ]
  },
  {
   "cell_type": "code",
   "execution_count": 5,
   "metadata": {
    "collapsed": true
   },
   "outputs": [],
   "source": [
    "# axis0 -> Labels [shape (129,)]\n",
    "# axis1 -> id column [shape (9000,)] [shape (21000,)]\n",
    "# block0_items -> traits labels [shape (128,)]\n",
    "# block0_values -> traits values [shape (9000,128)] [shape (21000,128)]\n",
    "# block1_items -> 'y' label\n",
    "# block1_values -> y column (without label) [shape (9000,1)] [shape (21000,1)]"
   ]
  },
  {
   "cell_type": "code",
   "execution_count": 6,
   "metadata": {
    "collapsed": false
   },
   "outputs": [],
   "source": [
    "X_train_l = a_train_l['block0_values'][()]\n",
    "X_train_l = np.float32(X_train_l)\n",
    "y_train_l = a_train_l['block1_values'][()]\n",
    "y_train_l = np.float32(y_train_l)\n",
    "X_train_ul = a_train_ul['block0_values'][()]\n",
    "X_train_ul = np.float32(X_train_ul)\n",
    "y_train_l = y_train_l[:,0]\n",
    "X_test = a_test['block0_values'][()]\n",
    "X_test = np.float32(X_test)"
   ]
  },
  {
   "cell_type": "code",
   "execution_count": 7,
   "metadata": {
    "collapsed": false
   },
   "outputs": [],
   "source": [
    "X_total = X_train_l.tolist()+X_train_ul.tolist()\n",
    "X_total = np.asarray(X_total)"
   ]
  },
  {
   "cell_type": "code",
   "execution_count": 8,
   "metadata": {
    "collapsed": true
   },
   "outputs": [],
   "source": [
    "#Are there zero columns?\n",
    "def is_zero_vector(x):\n",
    "    count = 0\n",
    "    for i in arange(len(x)):\n",
    "        if x[i] == 0.:\n",
    "            count += 1\n",
    "    if count == len(x):\n",
    "        return True\n",
    "    return False"
   ]
  },
  {
   "cell_type": "code",
   "execution_count": 9,
   "metadata": {
    "collapsed": true
   },
   "outputs": [],
   "source": [
    "zero_i = list([])\n",
    "for k in arange(len(X_total[0,:])):   \n",
    "    if is_zero_vector(X_total[:,k]):\n",
    "        zero_i.append(k)"
   ]
  },
  {
   "cell_type": "code",
   "execution_count": 10,
   "metadata": {
    "collapsed": false
   },
   "outputs": [
    {
     "data": {
      "text/plain": [
       "[24, 28, 31, 41, 54, 61, 64, 80, 92, 93, 99, 125]"
      ]
     },
     "execution_count": 10,
     "metadata": {},
     "output_type": "execute_result"
    }
   ],
   "source": [
    "zero_i"
   ]
  },
  {
   "cell_type": "code",
   "execution_count": 11,
   "metadata": {
    "collapsed": true
   },
   "outputs": [],
   "source": [
    "X_train_l = delete(X_train_l, zero_i, 1)\n",
    "X_tarin_ul = delete(X_train_ul, zero_i, 1)\n",
    "X_test = delete(X_test, zero_i, 1)"
   ]
  },
  {
   "cell_type": "code",
   "execution_count": 12,
   "metadata": {
    "collapsed": false
   },
   "outputs": [
    {
     "data": {
      "text/plain": [
       "(9000, 116)"
      ]
     },
     "execution_count": 12,
     "metadata": {},
     "output_type": "execute_result"
    }
   ],
   "source": [
    "X_train_l.shape"
   ]
  },
  {
   "cell_type": "markdown",
   "metadata": {
    "collapsed": true
   },
   "source": [
    "# TensorFlow"
   ]
  },
  {
   "cell_type": "code",
   "execution_count": 13,
   "metadata": {
    "collapsed": false
   },
   "outputs": [],
   "source": [
    "import tensorflow as tf"
   ]
  },
  {
   "cell_type": "code",
   "execution_count": 14,
   "metadata": {
    "collapsed": false
   },
   "outputs": [],
   "source": [
    "evecs = np.float32(zeros([116,116]))\n",
    "evals = np.float32(zeros([116]))"
   ]
  },
  {
   "cell_type": "code",
   "execution_count": null,
   "metadata": {
    "collapsed": false
   },
   "outputs": [],
   "source": []
  },
  {
   "cell_type": "code",
   "execution_count": null,
   "metadata": {
    "collapsed": false
   },
   "outputs": [],
   "source": []
  },
  {
   "cell_type": "code",
   "execution_count": 15,
   "metadata": {
    "collapsed": false
   },
   "outputs": [],
   "source": [
    "#loss = - tf.matmul(tf.transpose(tf.matmul(x,v)),tf.matmul(x,v))"
   ]
  },
  {
   "cell_type": "code",
   "execution_count": 16,
   "metadata": {
    "collapsed": false
   },
   "outputs": [],
   "source": [
    "prog = array([])"
   ]
  },
  {
   "cell_type": "code",
   "execution_count": null,
   "metadata": {
    "collapsed": false,
    "scrolled": true
   },
   "outputs": [
    {
     "name": "stdout",
     "output_type": "stream",
     "text": [
      "0\n",
      "0\n",
      "1\n",
      "2\n",
      "3\n",
      "4\n",
      "5\n",
      "6\n",
      "7\n",
      "8\n",
      "9\n",
      "10\n",
      "11\n",
      "12\n",
      "13\n",
      "14\n",
      "15\n",
      "16\n",
      "17\n",
      "18\n",
      "19\n",
      "20\n",
      "21\n",
      "22\n",
      "23\n",
      "24\n",
      "25\n",
      "26\n",
      "27\n",
      "28\n",
      "29\n",
      "30\n",
      "31\n",
      "32\n",
      "33\n",
      "34\n",
      "35\n",
      "36\n",
      "37\n",
      "38\n",
      "39\n",
      "40\n",
      "41\n",
      "42\n",
      "43\n",
      "44\n",
      "45\n",
      "46\n",
      "47\n",
      "48\n",
      "49\n",
      "50\n",
      "51\n",
      "52\n",
      "53\n",
      "54\n",
      "55\n",
      "56\n",
      "57\n",
      "58\n",
      "59\n",
      "60\n",
      "61\n",
      "62\n",
      "63\n",
      "64\n",
      "65\n",
      "66\n",
      "67\n",
      "68\n",
      "69\n",
      "70\n",
      "71\n",
      "72\n",
      "73\n",
      "74\n",
      "75\n",
      "76\n",
      "77\n",
      "78\n",
      "79\n",
      "80\n",
      "81\n",
      "82\n",
      "83\n",
      "84\n",
      "85\n",
      "86\n",
      "87\n",
      "88\n",
      "89\n",
      "90\n",
      "91\n",
      "92\n",
      "93\n",
      "94\n",
      "95\n",
      "96\n",
      "97\n",
      "98\n",
      "99\n",
      "100\n",
      "101\n",
      "102\n",
      "103\n",
      "104\n",
      "105\n",
      "106\n",
      "107\n",
      "108\n",
      "109\n",
      "110\n",
      "111\n",
      "112\n",
      "113\n",
      "114\n",
      "115\n",
      "116\n",
      "117\n",
      "118\n",
      "119\n",
      "120\n",
      "121\n",
      "122\n",
      "123\n",
      "124\n",
      "125\n",
      "126\n",
      "127\n",
      "128\n",
      "129\n",
      "130\n",
      "131\n",
      "132\n",
      "133\n",
      "134\n",
      "135\n",
      "136\n",
      "137\n",
      "138\n",
      "139\n",
      "140\n",
      "141\n",
      "142\n",
      "143\n",
      "144\n",
      "145\n",
      "146\n",
      "147\n",
      "148\n",
      "149\n",
      "150\n",
      "151\n",
      "152\n",
      "153\n",
      "154\n",
      "155\n",
      "156\n",
      "157\n",
      "158\n",
      "159\n",
      "160\n",
      "161\n",
      "162\n",
      "163\n",
      "164\n",
      "165\n",
      "166\n",
      "167\n",
      "168\n",
      "169\n",
      "170\n",
      "171\n",
      "172\n",
      "173\n",
      "174\n",
      "175\n",
      "176\n",
      "177\n",
      "178\n",
      "179\n",
      "180\n",
      "181\n",
      "182\n",
      "183\n",
      "184\n",
      "185\n",
      "186\n",
      "187\n",
      "188\n",
      "189\n",
      "190\n",
      "191\n",
      "192\n",
      "193\n",
      "194\n",
      "195\n",
      "196\n",
      "197\n",
      "198\n",
      "199\n",
      "200\n",
      "201\n",
      "202\n",
      "203\n",
      "204\n",
      "205\n",
      "206\n",
      "207\n",
      "208\n",
      "209\n",
      "210\n",
      "211\n",
      "212\n",
      "213\n",
      "214\n",
      "215\n",
      "216\n",
      "217\n",
      "218\n",
      "219\n",
      "220\n",
      "221\n",
      "222\n",
      "223\n",
      "224\n",
      "225\n",
      "226\n",
      "227\n",
      "228\n",
      "229\n",
      "230\n",
      "231\n",
      "232\n",
      "233\n",
      "234\n",
      "235\n",
      "236\n",
      "237\n",
      "238\n",
      "239\n",
      "240\n",
      "241\n",
      "242\n",
      "243\n",
      "244\n",
      "245\n",
      "246\n",
      "247\n",
      "248\n",
      "249\n",
      "250\n",
      "251\n",
      "252\n",
      "253\n",
      "254\n",
      "255\n",
      "256\n",
      "257\n",
      "258\n",
      "259\n",
      "260\n",
      "261\n",
      "262\n",
      "263\n",
      "264\n",
      "265\n",
      "266\n",
      "267\n",
      "268\n",
      "269\n",
      "270\n",
      "271\n",
      "272\n",
      "273\n",
      "274\n",
      "275\n",
      "276\n",
      "277\n",
      "278\n",
      "279\n",
      "280\n",
      "281\n",
      "282\n",
      "283\n",
      "284\n",
      "285\n",
      "286\n",
      "287\n",
      "288\n",
      "289\n",
      "290\n",
      "291\n",
      "292\n",
      "293\n",
      "294\n",
      "295\n",
      "296\n",
      "297\n",
      "298\n",
      "299\n",
      "300\n",
      "301\n",
      "302\n",
      "303\n",
      "304\n",
      "305\n",
      "306\n",
      "307\n",
      "308\n",
      "309\n",
      "310\n",
      "311\n",
      "312\n",
      "313\n",
      "314\n",
      "315\n",
      "316\n",
      "317\n",
      "318\n",
      "319\n",
      "320\n",
      "321\n",
      "322\n",
      "323\n",
      "324\n",
      "325\n",
      "326\n",
      "327\n",
      "328\n",
      "329\n",
      "330\n",
      "331\n",
      "332\n",
      "333\n",
      "334\n",
      "335\n",
      "336\n",
      "337\n",
      "338\n",
      "339\n",
      "340\n",
      "341\n",
      "342\n",
      "343\n",
      "344\n",
      "345\n",
      "346\n",
      "347\n",
      "348\n",
      "349\n",
      "350\n",
      "351\n",
      "352\n",
      "353\n",
      "354\n",
      "355\n",
      "356\n",
      "357\n",
      "358\n",
      "359\n",
      "360\n",
      "361\n",
      "362\n",
      "363\n",
      "364\n",
      "365\n",
      "366\n",
      "367\n",
      "368\n",
      "369\n",
      "370\n",
      "371\n",
      "372\n",
      "373\n",
      "374\n",
      "375\n",
      "376\n",
      "377\n",
      "378\n",
      "379\n",
      "380\n",
      "381\n",
      "382\n",
      "383\n",
      "384\n",
      "385\n",
      "386\n",
      "387\n",
      "388\n",
      "389\n",
      "390\n",
      "391\n",
      "392\n",
      "393\n",
      "394\n",
      "395\n",
      "396\n",
      "397\n",
      "398\n",
      "399\n",
      "400\n",
      "401\n",
      "402\n",
      "403\n",
      "404\n",
      "405\n",
      "406\n",
      "407\n",
      "408\n",
      "409\n",
      "410\n",
      "411\n",
      "412\n",
      "413\n",
      "414\n",
      "415\n",
      "416\n",
      "417\n",
      "418\n",
      "419\n",
      "420\n",
      "421\n",
      "422\n",
      "423\n",
      "424\n",
      "425\n",
      "426\n",
      "427\n",
      "428\n",
      "429\n",
      "430\n",
      "431\n",
      "432\n",
      "433\n",
      "434\n",
      "435\n",
      "436\n",
      "437\n",
      "438\n",
      "439\n",
      "440\n",
      "441\n",
      "442\n",
      "443\n",
      "444\n",
      "445\n",
      "446\n",
      "447\n",
      "448\n",
      "449\n",
      "450\n",
      "451\n",
      "452\n",
      "453\n",
      "454\n",
      "455\n",
      "456\n",
      "457\n",
      "458\n",
      "459\n",
      "460\n",
      "461\n",
      "462\n",
      "463\n",
      "464\n",
      "465\n",
      "466\n",
      "467\n",
      "468\n",
      "469\n",
      "470\n",
      "471\n",
      "472\n",
      "473\n",
      "474\n",
      "475\n",
      "476\n",
      "477\n",
      "478\n",
      "479\n",
      "480\n",
      "481\n",
      "482\n",
      "483\n",
      "484\n",
      "485\n",
      "486\n",
      "487\n",
      "488\n",
      "489\n",
      "490\n",
      "491\n",
      "492\n",
      "493\n",
      "494\n",
      "495\n",
      "496\n",
      "497\n",
      "498\n",
      "499\n",
      "500\n",
      "501\n",
      "502\n",
      "503\n",
      "504\n",
      "505\n",
      "506\n",
      "507\n",
      "508\n",
      "509\n",
      "510\n",
      "511\n",
      "512\n",
      "513\n",
      "514\n",
      "515\n",
      "516\n",
      "517\n",
      "518\n",
      "519\n",
      "520\n",
      "521\n",
      "522\n",
      "523\n",
      "524\n",
      "525\n",
      "526\n",
      "527\n",
      "528\n",
      "529\n",
      "530\n",
      "531\n",
      "532\n",
      "533\n",
      "534\n",
      "535\n",
      "536\n",
      "537\n",
      "538\n",
      "539\n",
      "540\n",
      "541\n",
      "542\n",
      "543\n",
      "544\n",
      "545\n",
      "546\n",
      "547\n",
      "548\n",
      "549\n",
      "550\n",
      "551\n",
      "552\n",
      "553\n",
      "554\n",
      "555\n",
      "556\n",
      "557\n",
      "558\n",
      "559\n",
      "560\n",
      "561\n",
      "562\n",
      "563\n",
      "564\n",
      "565\n",
      "566\n",
      "567\n",
      "568\n",
      "569\n",
      "570\n",
      "571\n",
      "572\n",
      "573\n",
      "574\n",
      "575\n",
      "576\n",
      "577\n",
      "578\n",
      "579\n",
      "580\n",
      "581\n",
      "582\n",
      "583\n",
      "584\n",
      "585\n",
      "586\n",
      "587\n",
      "588\n",
      "589\n",
      "590\n",
      "591\n",
      "592\n",
      "593\n",
      "594\n",
      "595\n",
      "596\n",
      "597\n",
      "598\n",
      "599\n",
      "600\n",
      "601\n",
      "602\n",
      "603\n",
      "604\n",
      "605\n",
      "606\n",
      "607\n",
      "608\n",
      "609\n",
      "610\n",
      "611\n",
      "612\n",
      "613\n",
      "614\n",
      "615\n",
      "616\n",
      "617\n",
      "618\n",
      "619\n",
      "620\n",
      "621\n",
      "622\n",
      "623\n",
      "624\n",
      "625\n",
      "626\n",
      "627\n",
      "628\n",
      "629\n",
      "630\n",
      "631\n",
      "632\n",
      "633\n",
      "634\n",
      "635\n",
      "636\n",
      "637\n",
      "638\n",
      "639\n",
      "640\n",
      "641\n",
      "642\n",
      "643\n",
      "644\n",
      "645\n",
      "646\n",
      "647\n",
      "648\n",
      "649\n",
      "650\n",
      "651\n",
      "652\n",
      "653\n",
      "654\n",
      "655\n",
      "656\n",
      "657\n",
      "658\n",
      "659\n"
     ]
    }
   ],
   "source": [
    "sess = tf.InteractiveSession()\n",
    "for s in arange(116):\n",
    "    print(s)\n",
    "    x = tf.placeholder(tf.float32, shape=[None, 116])\n",
    "    v = tf.Variable( tf.random_normal([116, 1], mean=0.1, stddev=0.1), trainable=True )\n",
    "    v = tf.div(v,tf.sqrt(tf.matmul(tf.transpose(v),v)))\n",
    "    sess.run(tf.initialize_all_variables())\n",
    "    for i in arange(1000):\n",
    "        print(i)\n",
    "        loss = - tf.matmul(tf.transpose(tf.matmul(x,v)),tf.matmul(x,v)) + np.sum(evals[j]*tf.matmul(reshape(evecs[j],[116,1]).T,v)*tf.matmul(reshape(evecs[s],[116,1]).T,v) for j in arange(s))\n",
    "        train_step = tf.train.GradientDescentOptimizer(0.000001).minimize(loss)\n",
    "        _, lo = sess.run([train_step, loss], feed_dict={x:X_train_l})\n",
    "        evecs[s] = reshape(v.eval(),[116])\n",
    "        evals[s] = lo"
   ]
  },
  {
   "cell_type": "code",
   "execution_count": null,
   "metadata": {
    "collapsed": true
   },
   "outputs": [],
   "source": []
  },
  {
   "cell_type": "code",
   "execution_count": 18,
   "metadata": {
    "collapsed": false
   },
   "outputs": [
    {
     "data": {
      "text/plain": [
       "array([ -76231.46875, -152463.03125, -304926.03125, -609852.125  ,\n",
       "       -653791.375  ,       0.     ,       0.     ,       0.     ,\n",
       "             0.     ,       0.     ,       0.     ,       0.     ,\n",
       "             0.     ,       0.     ,       0.     ,       0.     ,\n",
       "             0.     ,       0.     ,       0.     ,       0.     ,\n",
       "             0.     ,       0.     ,       0.     ,       0.     ,\n",
       "             0.     ,       0.     ,       0.     ,       0.     ,\n",
       "             0.     ,       0.     ,       0.     ,       0.     ,\n",
       "             0.     ,       0.     ,       0.     ,       0.     ,\n",
       "             0.     ,       0.     ,       0.     ,       0.     ,\n",
       "             0.     ,       0.     ,       0.     ,       0.     ,\n",
       "             0.     ,       0.     ,       0.     ,       0.     ,\n",
       "             0.     ,       0.     ,       0.     ,       0.     ,\n",
       "             0.     ,       0.     ,       0.     ,       0.     ,\n",
       "             0.     ,       0.     ,       0.     ,       0.     ,\n",
       "             0.     ,       0.     ,       0.     ,       0.     ,\n",
       "             0.     ,       0.     ,       0.     ,       0.     ,\n",
       "             0.     ,       0.     ,       0.     ,       0.     ,\n",
       "             0.     ,       0.     ,       0.     ,       0.     ,\n",
       "             0.     ,       0.     ,       0.     ,       0.     ,\n",
       "             0.     ,       0.     ,       0.     ,       0.     ,\n",
       "             0.     ,       0.     ,       0.     ,       0.     ,\n",
       "             0.     ,       0.     ,       0.     ,       0.     ,\n",
       "             0.     ,       0.     ,       0.     ,       0.     ,\n",
       "             0.     ,       0.     ,       0.     ,       0.     ,\n",
       "             0.     ,       0.     ,       0.     ,       0.     ,\n",
       "             0.     ,       0.     ,       0.     ,       0.     ,\n",
       "             0.     ,       0.     ,       0.     ,       0.     ,\n",
       "             0.     ,       0.     ,       0.     ,       0.     ], dtype=float32)"
      ]
     },
     "execution_count": 18,
     "metadata": {},
     "output_type": "execute_result"
    }
   ],
   "source": [
    "evals"
   ]
  },
  {
   "cell_type": "code",
   "execution_count": 20,
   "metadata": {
    "collapsed": false
   },
   "outputs": [],
   "source": [
    "#train_step = tf.train.GradientDescentOptimizer(0.000001).minimize(l)"
   ]
  },
  {
   "cell_type": "code",
   "execution_count": 21,
   "metadata": {
    "collapsed": true
   },
   "outputs": [],
   "source": [
    "#train_step.run(feed_dict={x: X_train_l})"
   ]
  },
  {
   "cell_type": "code",
   "execution_count": 22,
   "metadata": {
    "collapsed": false
   },
   "outputs": [],
   "source": [
    "#_, lo = sess.run([train_step, l], feed_dict={x:X_train_l})"
   ]
  },
  {
   "cell_type": "code",
   "execution_count": 23,
   "metadata": {
    "collapsed": false
   },
   "outputs": [],
   "source": [
    "prog = array([])"
   ]
  },
  {
   "cell_type": "code",
   "execution_count": 24,
   "metadata": {
    "collapsed": false
   },
   "outputs": [
    {
     "ename": "InvalidArgumentError",
     "evalue": "Expected begin[0] in [0, 116], but got 118\n\t [[Node: Slice_355 = Slice[Index=DT_INT32, T=DT_FLOAT, _device=\"/job:localhost/replica:0/task:0/cpu:0\"](Variable_1/read, Slice_355/begin, Slice_355/size)]]\nCaused by op 'Slice_355', defined at:\n  File \"/Users/Camilo/anaconda2/envs/tensorflow/lib/python3.5/runpy.py\", line 170, in _run_module_as_main\n    \"__main__\", mod_spec)\n  File \"/Users/Camilo/anaconda2/envs/tensorflow/lib/python3.5/runpy.py\", line 85, in _run_code\n    exec(code, run_globals)\n  File \"/Users/Camilo/anaconda2/envs/tensorflow/lib/python3.5/site-packages/ipykernel/__main__.py\", line 3, in <module>\n    app.launch_new_instance()\n  File \"/Users/Camilo/anaconda2/envs/tensorflow/lib/python3.5/site-packages/traitlets/config/application.py\", line 596, in launch_instance\n    app.start()\n  File \"/Users/Camilo/anaconda2/envs/tensorflow/lib/python3.5/site-packages/ipykernel/kernelapp.py\", line 442, in start\n    ioloop.IOLoop.instance().start()\n  File \"/Users/Camilo/anaconda2/envs/tensorflow/lib/python3.5/site-packages/zmq/eventloop/ioloop.py\", line 162, in start\n    super(ZMQIOLoop, self).start()\n  File \"/Users/Camilo/anaconda2/envs/tensorflow/lib/python3.5/site-packages/tornado/ioloop.py\", line 883, in start\n    handler_func(fd_obj, events)\n  File \"/Users/Camilo/anaconda2/envs/tensorflow/lib/python3.5/site-packages/tornado/stack_context.py\", line 275, in null_wrapper\n    return fn(*args, **kwargs)\n  File \"/Users/Camilo/anaconda2/envs/tensorflow/lib/python3.5/site-packages/zmq/eventloop/zmqstream.py\", line 440, in _handle_events\n    self._handle_recv()\n  File \"/Users/Camilo/anaconda2/envs/tensorflow/lib/python3.5/site-packages/zmq/eventloop/zmqstream.py\", line 472, in _handle_recv\n    self._run_callback(callback, msg)\n  File \"/Users/Camilo/anaconda2/envs/tensorflow/lib/python3.5/site-packages/zmq/eventloop/zmqstream.py\", line 414, in _run_callback\n    callback(*args, **kwargs)\n  File \"/Users/Camilo/anaconda2/envs/tensorflow/lib/python3.5/site-packages/tornado/stack_context.py\", line 275, in null_wrapper\n    return fn(*args, **kwargs)\n  File \"/Users/Camilo/anaconda2/envs/tensorflow/lib/python3.5/site-packages/ipykernel/kernelbase.py\", line 276, in dispatcher\n    return self.dispatch_shell(stream, msg)\n  File \"/Users/Camilo/anaconda2/envs/tensorflow/lib/python3.5/site-packages/ipykernel/kernelbase.py\", line 228, in dispatch_shell\n    handler(stream, idents, msg)\n  File \"/Users/Camilo/anaconda2/envs/tensorflow/lib/python3.5/site-packages/ipykernel/kernelbase.py\", line 391, in execute_request\n    user_expressions, allow_stdin)\n  File \"/Users/Camilo/anaconda2/envs/tensorflow/lib/python3.5/site-packages/ipykernel/ipkernel.py\", line 199, in do_execute\n    shell.run_cell(code, store_history=store_history, silent=silent)\n  File \"/Users/Camilo/anaconda2/envs/tensorflow/lib/python3.5/site-packages/IPython/core/interactiveshell.py\", line 2723, in run_cell\n    interactivity=interactivity, compiler=compiler, result=result)\n  File \"/Users/Camilo/anaconda2/envs/tensorflow/lib/python3.5/site-packages/IPython/core/interactiveshell.py\", line 2825, in run_ast_nodes\n    if self.run_code(code, result):\n  File \"/Users/Camilo/anaconda2/envs/tensorflow/lib/python3.5/site-packages/IPython/core/interactiveshell.py\", line 2885, in run_code\n    exec(code_obj, self.user_global_ns, self.user_ns)\n  File \"<ipython-input-17-2915027bcca1>\", line 1, in <module>\n    loss = - tf.matmul(tf.transpose(tf.matmul(x,v)),tf.matmul(x,v)) + np.sum(evals[j]*tf.matmul(tf.transpose(tf.reshape(evecs[j,:],[116,1])),v)*tf.matmul(tf.transpose(tf.reshape(evecs[j,:],[116,1])),v) for j in arange(k))\n  File \"/Users/Camilo/anaconda2/envs/tensorflow/lib/python3.5/site-packages/numpy/core/fromnumeric.py\", line 1825, in sum\n    res = _sum_(a)\n  File \"<ipython-input-17-2915027bcca1>\", line 1, in <genexpr>\n    loss = - tf.matmul(tf.transpose(tf.matmul(x,v)),tf.matmul(x,v)) + np.sum(evals[j]*tf.matmul(tf.transpose(tf.reshape(evecs[j,:],[116,1])),v)*tf.matmul(tf.transpose(tf.reshape(evecs[j,:],[116,1])),v) for j in arange(k))\n  File \"/Users/Camilo/anaconda2/envs/tensorflow/lib/python3.5/site-packages/tensorflow/python/ops/variables.py\", line 610, in <lambda>\n    setattr(Variable, operator, lambda a, b: Variable._RunOp(operator, a, b))\n  File \"/Users/Camilo/anaconda2/envs/tensorflow/lib/python3.5/site-packages/tensorflow/python/ops/variables.py\", line 625, in _RunOp\n    return getattr(ops.Tensor, operator)(a._AsTensor(), b)\n  File \"/Users/Camilo/anaconda2/envs/tensorflow/lib/python3.5/site-packages/tensorflow/python/ops/array_ops.py\", line 167, in _SliceHelper\n    sliced = slice(tensor, indices, sizes)\n  File \"/Users/Camilo/anaconda2/envs/tensorflow/lib/python3.5/site-packages/tensorflow/python/ops/array_ops.py\", line 217, in slice\n    return gen_array_ops._slice(input_, begin, size, name=name)\n  File \"/Users/Camilo/anaconda2/envs/tensorflow/lib/python3.5/site-packages/tensorflow/python/ops/gen_array_ops.py\", line 1318, in _slice\n    name=name)\n  File \"/Users/Camilo/anaconda2/envs/tensorflow/lib/python3.5/site-packages/tensorflow/python/ops/op_def_library.py\", line 655, in apply_op\n    op_def=op_def)\n  File \"/Users/Camilo/anaconda2/envs/tensorflow/lib/python3.5/site-packages/tensorflow/python/framework/ops.py\", line 2154, in create_op\n    original_op=self._default_original_op, op_def=op_def)\n  File \"/Users/Camilo/anaconda2/envs/tensorflow/lib/python3.5/site-packages/tensorflow/python/framework/ops.py\", line 1154, in __init__\n    self._traceback = _extract_stack()\n",
     "output_type": "error",
     "traceback": [
      "\u001b[0;31m---------------------------------------------------------------------------\u001b[0m",
      "\u001b[0;31mStatusNotOK\u001b[0m                               Traceback (most recent call last)",
      "\u001b[0;32m/Users/Camilo/anaconda2/envs/tensorflow/lib/python3.5/site-packages/tensorflow/python/client/session.py\u001b[0m in \u001b[0;36m_do_call\u001b[0;34m(self, fn, *args)\u001b[0m\n\u001b[1;32m    643\u001b[0m     \u001b[0;32mtry\u001b[0m\u001b[0;34m:\u001b[0m\u001b[0;34m\u001b[0m\u001b[0m\n\u001b[0;32m--> 644\u001b[0;31m       \u001b[0;32mreturn\u001b[0m \u001b[0mfn\u001b[0m\u001b[0;34m(\u001b[0m\u001b[0;34m*\u001b[0m\u001b[0margs\u001b[0m\u001b[0;34m)\u001b[0m\u001b[0;34m\u001b[0m\u001b[0m\n\u001b[0m\u001b[1;32m    645\u001b[0m     \u001b[0;32mexcept\u001b[0m \u001b[0mtf_session\u001b[0m\u001b[0;34m.\u001b[0m\u001b[0mStatusNotOK\u001b[0m \u001b[0;32mas\u001b[0m \u001b[0me\u001b[0m\u001b[0;34m:\u001b[0m\u001b[0;34m\u001b[0m\u001b[0m\n",
      "\u001b[0;32m/Users/Camilo/anaconda2/envs/tensorflow/lib/python3.5/site-packages/tensorflow/python/client/session.py\u001b[0m in \u001b[0;36m_run_fn\u001b[0;34m(session, feed_dict, fetch_list, target_list, options, run_metadata)\u001b[0m\n\u001b[1;32m    627\u001b[0m         return tf_session.TF_Run(\n\u001b[0;32m--> 628\u001b[0;31m             session, None, feed_dict, fetch_list, target_list, None)\n\u001b[0m\u001b[1;32m    629\u001b[0m \u001b[0;34m\u001b[0m\u001b[0m\n",
      "\u001b[0;31mStatusNotOK\u001b[0m: Invalid argument: Expected begin[0] in [0, 116], but got 118\n\t [[Node: Slice_355 = Slice[Index=DT_INT32, T=DT_FLOAT, _device=\"/job:localhost/replica:0/task:0/cpu:0\"](Variable_1/read, Slice_355/begin, Slice_355/size)]]",
      "\nDuring handling of the above exception, another exception occurred:\n",
      "\u001b[0;31mInvalidArgumentError\u001b[0m                      Traceback (most recent call last)",
      "\u001b[0;32m<ipython-input-24-c24683d96c63>\u001b[0m in \u001b[0;36m<module>\u001b[0;34m()\u001b[0m\n\u001b[1;32m      1\u001b[0m \u001b[0;32mfor\u001b[0m \u001b[0mk\u001b[0m \u001b[0;32min\u001b[0m \u001b[0marange\u001b[0m\u001b[0;34m(\u001b[0m\u001b[0;36m116\u001b[0m\u001b[0;34m)\u001b[0m\u001b[0;34m:\u001b[0m\u001b[0;34m\u001b[0m\u001b[0m\n\u001b[1;32m      2\u001b[0m     \u001b[0;32mfor\u001b[0m \u001b[0mi\u001b[0m \u001b[0;32min\u001b[0m \u001b[0marange\u001b[0m\u001b[0;34m(\u001b[0m\u001b[0;36m1000\u001b[0m\u001b[0;34m)\u001b[0m\u001b[0;34m:\u001b[0m\u001b[0;34m\u001b[0m\u001b[0m\n\u001b[0;32m----> 3\u001b[0;31m         \u001b[0m_\u001b[0m\u001b[0;34m,\u001b[0m \u001b[0mlo\u001b[0m \u001b[0;34m=\u001b[0m \u001b[0msess\u001b[0m\u001b[0;34m.\u001b[0m\u001b[0mrun\u001b[0m\u001b[0;34m(\u001b[0m\u001b[0;34m[\u001b[0m\u001b[0mtrain_step\u001b[0m\u001b[0;34m,\u001b[0m \u001b[0mloss\u001b[0m\u001b[0;34m]\u001b[0m\u001b[0;34m,\u001b[0m \u001b[0mfeed_dict\u001b[0m\u001b[0;34m=\u001b[0m\u001b[0;34m{\u001b[0m\u001b[0mx\u001b[0m\u001b[0;34m:\u001b[0m\u001b[0mX_train_l\u001b[0m\u001b[0;34m}\u001b[0m\u001b[0;34m)\u001b[0m\u001b[0;34m\u001b[0m\u001b[0m\n\u001b[0m\u001b[1;32m      4\u001b[0m         \u001b[0mprog\u001b[0m \u001b[0;34m=\u001b[0m \u001b[0mnp\u001b[0m\u001b[0;34m.\u001b[0m\u001b[0mappend\u001b[0m\u001b[0;34m(\u001b[0m\u001b[0mprog\u001b[0m\u001b[0;34m,\u001b[0m \u001b[0mlo\u001b[0m\u001b[0;34m)\u001b[0m\u001b[0;34m\u001b[0m\u001b[0m\n",
      "\u001b[0;32m/Users/Camilo/anaconda2/envs/tensorflow/lib/python3.5/site-packages/tensorflow/python/client/session.py\u001b[0m in \u001b[0;36mrun\u001b[0;34m(self, fetches, feed_dict, options, run_metadata)\u001b[0m\n\u001b[1;32m    338\u001b[0m     \u001b[0;32mtry\u001b[0m\u001b[0;34m:\u001b[0m\u001b[0;34m\u001b[0m\u001b[0m\n\u001b[1;32m    339\u001b[0m       result = self._run(None, fetches, feed_dict, options_ptr,\n\u001b[0;32m--> 340\u001b[0;31m                          run_metadata_ptr)\n\u001b[0m\u001b[1;32m    341\u001b[0m       \u001b[0;32mif\u001b[0m \u001b[0mrun_metadata\u001b[0m\u001b[0;34m:\u001b[0m\u001b[0;34m\u001b[0m\u001b[0m\n\u001b[1;32m    342\u001b[0m         \u001b[0mproto_data\u001b[0m \u001b[0;34m=\u001b[0m \u001b[0mtf_session\u001b[0m\u001b[0;34m.\u001b[0m\u001b[0mTF_GetBuffer\u001b[0m\u001b[0;34m(\u001b[0m\u001b[0mrun_metadata_ptr\u001b[0m\u001b[0;34m)\u001b[0m\u001b[0;34m\u001b[0m\u001b[0m\n",
      "\u001b[0;32m/Users/Camilo/anaconda2/envs/tensorflow/lib/python3.5/site-packages/tensorflow/python/client/session.py\u001b[0m in \u001b[0;36m_run\u001b[0;34m(self, handle, fetches, feed_dict, options, run_metadata)\u001b[0m\n\u001b[1;32m    562\u001b[0m     \u001b[0;32mtry\u001b[0m\u001b[0;34m:\u001b[0m\u001b[0;34m\u001b[0m\u001b[0m\n\u001b[1;32m    563\u001b[0m       results = self._do_run(handle, target_list, unique_fetches,\n\u001b[0;32m--> 564\u001b[0;31m                              feed_dict_string, options, run_metadata)\n\u001b[0m\u001b[1;32m    565\u001b[0m     \u001b[0;32mfinally\u001b[0m\u001b[0;34m:\u001b[0m\u001b[0;34m\u001b[0m\u001b[0m\n\u001b[1;32m    566\u001b[0m       \u001b[0;31m# The movers are no longer used. Delete them.\u001b[0m\u001b[0;34m\u001b[0m\u001b[0;34m\u001b[0m\u001b[0m\n",
      "\u001b[0;32m/Users/Camilo/anaconda2/envs/tensorflow/lib/python3.5/site-packages/tensorflow/python/client/session.py\u001b[0m in \u001b[0;36m_do_run\u001b[0;34m(self, handle, target_list, fetch_list, feed_dict, options, run_metadata)\u001b[0m\n\u001b[1;32m    635\u001b[0m     \u001b[0;32mif\u001b[0m \u001b[0mhandle\u001b[0m \u001b[0;32mis\u001b[0m \u001b[0;32mNone\u001b[0m\u001b[0;34m:\u001b[0m\u001b[0;34m\u001b[0m\u001b[0m\n\u001b[1;32m    636\u001b[0m       return self._do_call(_run_fn, self._session, feed_dict, fetch_list,\n\u001b[0;32m--> 637\u001b[0;31m                            target_list, options, run_metadata)\n\u001b[0m\u001b[1;32m    638\u001b[0m     \u001b[0;32melse\u001b[0m\u001b[0;34m:\u001b[0m\u001b[0;34m\u001b[0m\u001b[0m\n\u001b[1;32m    639\u001b[0m       return self._do_call(_prun_fn, self._session, handle, feed_dict,\n",
      "\u001b[0;32m/Users/Camilo/anaconda2/envs/tensorflow/lib/python3.5/site-packages/tensorflow/python/client/session.py\u001b[0m in \u001b[0;36m_do_call\u001b[0;34m(self, fn, *args)\u001b[0m\n\u001b[1;32m    657\u001b[0m       \u001b[0;31m# pylint: disable=protected-access\u001b[0m\u001b[0;34m\u001b[0m\u001b[0;34m\u001b[0m\u001b[0m\n\u001b[1;32m    658\u001b[0m       raise errors._make_specific_exception(node_def, op, error_message,\n\u001b[0;32m--> 659\u001b[0;31m                                             e.code)\n\u001b[0m\u001b[1;32m    660\u001b[0m       \u001b[0;31m# pylint: enable=protected-access\u001b[0m\u001b[0;34m\u001b[0m\u001b[0;34m\u001b[0m\u001b[0m\n\u001b[1;32m    661\u001b[0m \u001b[0;34m\u001b[0m\u001b[0m\n",
      "\u001b[0;31mInvalidArgumentError\u001b[0m: Expected begin[0] in [0, 116], but got 118\n\t [[Node: Slice_355 = Slice[Index=DT_INT32, T=DT_FLOAT, _device=\"/job:localhost/replica:0/task:0/cpu:0\"](Variable_1/read, Slice_355/begin, Slice_355/size)]]\nCaused by op 'Slice_355', defined at:\n  File \"/Users/Camilo/anaconda2/envs/tensorflow/lib/python3.5/runpy.py\", line 170, in _run_module_as_main\n    \"__main__\", mod_spec)\n  File \"/Users/Camilo/anaconda2/envs/tensorflow/lib/python3.5/runpy.py\", line 85, in _run_code\n    exec(code, run_globals)\n  File \"/Users/Camilo/anaconda2/envs/tensorflow/lib/python3.5/site-packages/ipykernel/__main__.py\", line 3, in <module>\n    app.launch_new_instance()\n  File \"/Users/Camilo/anaconda2/envs/tensorflow/lib/python3.5/site-packages/traitlets/config/application.py\", line 596, in launch_instance\n    app.start()\n  File \"/Users/Camilo/anaconda2/envs/tensorflow/lib/python3.5/site-packages/ipykernel/kernelapp.py\", line 442, in start\n    ioloop.IOLoop.instance().start()\n  File \"/Users/Camilo/anaconda2/envs/tensorflow/lib/python3.5/site-packages/zmq/eventloop/ioloop.py\", line 162, in start\n    super(ZMQIOLoop, self).start()\n  File \"/Users/Camilo/anaconda2/envs/tensorflow/lib/python3.5/site-packages/tornado/ioloop.py\", line 883, in start\n    handler_func(fd_obj, events)\n  File \"/Users/Camilo/anaconda2/envs/tensorflow/lib/python3.5/site-packages/tornado/stack_context.py\", line 275, in null_wrapper\n    return fn(*args, **kwargs)\n  File \"/Users/Camilo/anaconda2/envs/tensorflow/lib/python3.5/site-packages/zmq/eventloop/zmqstream.py\", line 440, in _handle_events\n    self._handle_recv()\n  File \"/Users/Camilo/anaconda2/envs/tensorflow/lib/python3.5/site-packages/zmq/eventloop/zmqstream.py\", line 472, in _handle_recv\n    self._run_callback(callback, msg)\n  File \"/Users/Camilo/anaconda2/envs/tensorflow/lib/python3.5/site-packages/zmq/eventloop/zmqstream.py\", line 414, in _run_callback\n    callback(*args, **kwargs)\n  File \"/Users/Camilo/anaconda2/envs/tensorflow/lib/python3.5/site-packages/tornado/stack_context.py\", line 275, in null_wrapper\n    return fn(*args, **kwargs)\n  File \"/Users/Camilo/anaconda2/envs/tensorflow/lib/python3.5/site-packages/ipykernel/kernelbase.py\", line 276, in dispatcher\n    return self.dispatch_shell(stream, msg)\n  File \"/Users/Camilo/anaconda2/envs/tensorflow/lib/python3.5/site-packages/ipykernel/kernelbase.py\", line 228, in dispatch_shell\n    handler(stream, idents, msg)\n  File \"/Users/Camilo/anaconda2/envs/tensorflow/lib/python3.5/site-packages/ipykernel/kernelbase.py\", line 391, in execute_request\n    user_expressions, allow_stdin)\n  File \"/Users/Camilo/anaconda2/envs/tensorflow/lib/python3.5/site-packages/ipykernel/ipkernel.py\", line 199, in do_execute\n    shell.run_cell(code, store_history=store_history, silent=silent)\n  File \"/Users/Camilo/anaconda2/envs/tensorflow/lib/python3.5/site-packages/IPython/core/interactiveshell.py\", line 2723, in run_cell\n    interactivity=interactivity, compiler=compiler, result=result)\n  File \"/Users/Camilo/anaconda2/envs/tensorflow/lib/python3.5/site-packages/IPython/core/interactiveshell.py\", line 2825, in run_ast_nodes\n    if self.run_code(code, result):\n  File \"/Users/Camilo/anaconda2/envs/tensorflow/lib/python3.5/site-packages/IPython/core/interactiveshell.py\", line 2885, in run_code\n    exec(code_obj, self.user_global_ns, self.user_ns)\n  File \"<ipython-input-17-2915027bcca1>\", line 1, in <module>\n    loss = - tf.matmul(tf.transpose(tf.matmul(x,v)),tf.matmul(x,v)) + np.sum(evals[j]*tf.matmul(tf.transpose(tf.reshape(evecs[j,:],[116,1])),v)*tf.matmul(tf.transpose(tf.reshape(evecs[j,:],[116,1])),v) for j in arange(k))\n  File \"/Users/Camilo/anaconda2/envs/tensorflow/lib/python3.5/site-packages/numpy/core/fromnumeric.py\", line 1825, in sum\n    res = _sum_(a)\n  File \"<ipython-input-17-2915027bcca1>\", line 1, in <genexpr>\n    loss = - tf.matmul(tf.transpose(tf.matmul(x,v)),tf.matmul(x,v)) + np.sum(evals[j]*tf.matmul(tf.transpose(tf.reshape(evecs[j,:],[116,1])),v)*tf.matmul(tf.transpose(tf.reshape(evecs[j,:],[116,1])),v) for j in arange(k))\n  File \"/Users/Camilo/anaconda2/envs/tensorflow/lib/python3.5/site-packages/tensorflow/python/ops/variables.py\", line 610, in <lambda>\n    setattr(Variable, operator, lambda a, b: Variable._RunOp(operator, a, b))\n  File \"/Users/Camilo/anaconda2/envs/tensorflow/lib/python3.5/site-packages/tensorflow/python/ops/variables.py\", line 625, in _RunOp\n    return getattr(ops.Tensor, operator)(a._AsTensor(), b)\n  File \"/Users/Camilo/anaconda2/envs/tensorflow/lib/python3.5/site-packages/tensorflow/python/ops/array_ops.py\", line 167, in _SliceHelper\n    sliced = slice(tensor, indices, sizes)\n  File \"/Users/Camilo/anaconda2/envs/tensorflow/lib/python3.5/site-packages/tensorflow/python/ops/array_ops.py\", line 217, in slice\n    return gen_array_ops._slice(input_, begin, size, name=name)\n  File \"/Users/Camilo/anaconda2/envs/tensorflow/lib/python3.5/site-packages/tensorflow/python/ops/gen_array_ops.py\", line 1318, in _slice\n    name=name)\n  File \"/Users/Camilo/anaconda2/envs/tensorflow/lib/python3.5/site-packages/tensorflow/python/ops/op_def_library.py\", line 655, in apply_op\n    op_def=op_def)\n  File \"/Users/Camilo/anaconda2/envs/tensorflow/lib/python3.5/site-packages/tensorflow/python/framework/ops.py\", line 2154, in create_op\n    original_op=self._default_original_op, op_def=op_def)\n  File \"/Users/Camilo/anaconda2/envs/tensorflow/lib/python3.5/site-packages/tensorflow/python/framework/ops.py\", line 1154, in __init__\n    self._traceback = _extract_stack()\n"
     ]
    }
   ],
   "source": [
    "for k in arange(116):\n",
    "    for i in arange(1000):\n",
    "        _, lo = sess.run([train_step, loss], feed_dict={x:X_train_l})\n",
    "        prog = np.append(prog, lo)"
   ]
  },
  {
   "cell_type": "code",
   "execution_count": 45,
   "metadata": {
    "collapsed": false
   },
   "outputs": [
    {
     "data": {
      "text/plain": [
       "[<matplotlib.lines.Line2D at 0x118b74b70>]"
      ]
     },
     "execution_count": 45,
     "metadata": {},
     "output_type": "execute_result"
    },
    {
     "data": {
      "image/png": "[encoded data removed]",
      "text/plain": [
       "<matplotlib.figure.Figure at 0x1187f6e80>"
      ]
     },
     "metadata": {},
     "output_type": "display_data"
    }
   ],
   "source": [
    "plot(prog)"
   ]
  },
  {
   "cell_type": "code",
   "execution_count": 46,
   "metadata": {
    "collapsed": false
   },
   "outputs": [
    {
     "data": {
      "text/plain": [
       "array([-23606.640625  , -25373.54492188, -27208.50390625, -29104.51953125,\n",
       "       -31053.        , -33044.2578125 , -35067.87890625, -37112.4453125 ,\n",
       "       -39166.07421875, -41216.73828125, -43252.5546875 , -45261.59765625,\n",
       "       -47232.7890625 , -49155.99609375, -51021.7734375 , -52822.00390625,\n",
       "       -54550.2265625 , -56200.73828125, -57769.58203125, -59253.6875    ,\n",
       "       -60651.62890625, -61963.3359375 , -63188.9140625 , -64330.0390625 ,\n",
       "       -65389.21484375, -66368.78125   , -67272.5703125 , -68103.9453125 ,\n",
       "       -68866.7890625 , -69565.6484375 , -70203.6171875 , -70785.875     ,\n",
       "       -71315.78125   , -71797.6015625 , -72234.703125  , -72631.1328125 ,\n",
       "       -72989.765625  , -73314.625     , -73607.65625   , -73872.578125  ,\n",
       "       -74111.375     , -74326.53125   , -74520.6171875 , -74695.09375   ,\n",
       "       -74852.359375  , -74993.7578125 , -75120.6796875 , -75234.8984375 ,\n",
       "       -75337.640625  , -75429.6953125 , -75512.3359375 , -75586.7890625 ,\n",
       "       -75653.453125  , -75713.1953125 , -75766.859375  , -75815.1796875 ,\n",
       "       -75858.1328125 , -75896.875     , -75931.7109375 , -75962.9296875 ,\n",
       "       -75990.59375   , -76015.5234375 , -76037.921875  , -76058.2109375 ,\n",
       "       -76076.265625  , -76092.4453125 , -76106.78125   , -76119.6953125 ,\n",
       "       -76131.5703125 , -76141.8359375 , -76151.2109375 , -76159.6953125 ,\n",
       "       -76167.1328125 , -76173.859375  , -76180.0234375 , -76185.296875  ,\n",
       "       -76190.0078125 , -76194.1796875 , -76198.2421875 , -76201.7421875 ,\n",
       "       -76204.8671875 , -76207.671875  , -76210.2109375 , -76212.28125   ,\n",
       "       -76214.4375    , -76216.28125   , -76217.8046875 , -76219.265625  ,\n",
       "       -76220.421875  , -76221.734375  , -76222.640625  , -76223.6875    ,\n",
       "       -76224.59375   , -76225.2421875 , -76225.7734375 , -76226.4296875 ,\n",
       "       -76227.1875    , -76227.5703125 , -76228.0390625 , -76228.40625   ,\n",
       "       -76228.703125  , -76229.03125   , -76229.28125   , -76229.5078125 ,\n",
       "       -76229.59375   , -76229.8046875 , -76229.8984375 , -76230.140625  ,\n",
       "       -76230.265625  , -76230.546875  , -76230.640625  , -76230.78125   ,\n",
       "       -76230.9765625 , -76231.046875  , -76231.1015625 , -76231.1484375 ,\n",
       "       -76231.171875  , -76231.2890625 , -76231.234375  , -76231.265625  ,\n",
       "       -76231.3125    , -76231.375     , -76231.359375  , -76231.3671875 ,\n",
       "       -76231.4140625 , -76231.46875   , -76231.46875   , -76231.609375  ,\n",
       "       -76231.5859375 , -76231.6953125 , -76231.7421875 , -76231.8125    ,\n",
       "       -76231.8046875 , -76231.7109375 , -76231.6328125 , -76231.703125  ,\n",
       "       -76231.6328125 , -76231.6328125 , -76231.640625  , -76231.671875  ,\n",
       "       -76231.6640625 , -76231.640625  , -76231.6484375 , -76231.640625  ,\n",
       "       -76231.59375   , -76231.6328125 , -76231.6015625 , -76231.640625  ,\n",
       "       -76231.6953125 , -76231.6953125 , -76231.6171875 , -76231.6015625 ,\n",
       "       -76231.5703125 , -76231.5390625 , -76231.5546875 , -76231.5859375 ,\n",
       "       -76231.5703125 , -76231.6171875 , -76231.59375   , -76231.59375   ,\n",
       "       -76231.6171875 , -76231.6015625 , -76231.640625  , -76231.65625   ,\n",
       "       -76231.7265625 , -76231.703125  , -76231.6875    , -76231.6953125 ,\n",
       "       -76231.6640625 , -76231.703125  , -76231.703125  , -76231.6953125 ,\n",
       "       -76231.75      , -76231.7421875 , -76231.7265625 , -76231.7578125 ,\n",
       "       -76231.7578125 , -76231.7734375 , -76231.7734375 , -76231.7421875 ,\n",
       "       -76231.75      , -76231.7734375 , -76231.8125    , -76231.84375   ,\n",
       "       -76231.8046875 , -76231.8203125 , -76231.8125    , -76231.859375  ,\n",
       "       -76231.84375   , -76231.859375  , -76231.890625  , -76231.84375   ,\n",
       "       -76231.84375   , -76231.859375  , -76231.84375   , -76231.8359375 ,\n",
       "       -76231.8203125 , -76231.8125    , -76231.828125  , -76231.828125  ,\n",
       "       -76231.828125  , -76231.8203125 , -76231.828125  , -76231.8203125 ,\n",
       "       -76231.8203125 , -76231.8359375 , -76231.8046875 , -76231.8046875 ,\n",
       "       -76231.7734375 , -76231.7890625 , -76231.7890625 , -76231.7890625 ,\n",
       "       -76231.796875  , -76231.8125    , -76231.796875  , -76231.8046875 ,\n",
       "       -76231.796875  , -76231.8125    , -76231.8046875 , -76231.796875  ,\n",
       "       -76231.796875  , -76231.78125   , -76231.78125   , -76231.796875  ,\n",
       "       -76231.796875  , -76231.8046875 , -76231.8046875 , -76231.796875  ,\n",
       "       -76231.796875  , -76231.8125    , -76231.8046875 , -76231.8125    ,\n",
       "       -76231.8125    , -76231.8046875 , -76231.796875  , -76231.8125    ,\n",
       "       -76231.8046875 , -76231.796875  , -76231.8046875 , -76231.8046875 ,\n",
       "       -76231.796875  , -76231.8203125 , -76231.8203125 , -76231.8203125 ,\n",
       "       -76231.8203125 , -76231.8203125 , -76231.8046875 , -76231.828125  ,\n",
       "       -76231.8125    , -76231.8046875 , -76231.8046875 , -76231.796875  ,\n",
       "       -76231.8046875 , -76231.796875  , -76231.796875  , -76231.8046875 ,\n",
       "       -76231.8046875 , -76231.8125    , -76231.796875  , -76231.8046875 ,\n",
       "       -76231.8046875 , -76231.8125    , -76231.8046875 , -76231.8046875 ,\n",
       "       -76231.8125    , -76231.796875  , -76231.8125    , -76231.8203125 ,\n",
       "       -76231.8203125 , -76231.8203125 , -76231.8203125 , -76231.8203125 ,\n",
       "       -76231.8203125 , -76231.8203125 , -76231.8203125 , -76231.8203125 ,\n",
       "       -76231.8203125 , -76231.8046875 , -76231.8046875 , -76231.8046875 ,\n",
       "       -76231.8046875 , -76231.8046875 , -76231.8046875 , -76231.8046875 ,\n",
       "       -76231.8046875 , -76231.8046875 , -76231.8046875 , -76231.8046875 ,\n",
       "       -76231.8046875 , -76231.8046875 , -76231.8046875 , -76231.8046875 ,\n",
       "       -76231.8046875 , -76231.8046875 , -76231.8046875 , -76231.8046875 ,\n",
       "       -76231.8046875 , -76231.8046875 , -76231.8046875 , -76231.8046875 ,\n",
       "       -76231.8046875 , -76231.8046875 , -76231.8046875 , -76231.8046875 ,\n",
       "       -76231.8046875 , -76231.8046875 , -76231.8046875 , -76231.8046875 ,\n",
       "       -76231.8046875 , -76231.8046875 , -76231.8046875 , -76231.8046875 ,\n",
       "       -76231.8046875 , -76231.8046875 , -76231.8046875 , -76231.8046875 ,\n",
       "       -76231.8046875 , -76231.8046875 , -76231.8046875 , -76231.8046875 ,\n",
       "       -76231.8046875 , -76231.8046875 , -76231.8046875 , -76231.8046875 ,\n",
       "       -76231.8046875 , -76231.8046875 , -76231.8046875 , -76231.8046875 ,\n",
       "       -76231.8046875 , -76231.8046875 , -76231.8046875 , -76231.8046875 ,\n",
       "       -76231.8046875 , -76231.8046875 , -76231.8046875 , -76231.8046875 ,\n",
       "       -76231.8046875 , -76231.8046875 , -76231.8046875 , -76231.8046875 ,\n",
       "       -76231.8046875 , -76231.8046875 , -76231.8046875 , -76231.8046875 ,\n",
       "       -76231.8046875 , -76231.8046875 , -76231.8046875 , -76231.8046875 ,\n",
       "       -76231.8046875 , -76231.8046875 , -76231.8046875 , -76231.8046875 ,\n",
       "       -76231.8046875 , -76231.8046875 , -76231.8046875 , -76231.8046875 ,\n",
       "       -76231.8046875 , -76231.8046875 , -76231.8046875 , -76231.8046875 ,\n",
       "       -76231.8046875 , -76231.8046875 , -76231.8046875 , -76231.8046875 ,\n",
       "       -76231.8046875 , -76231.8046875 , -76231.8046875 , -76231.8046875 ,\n",
       "       -76231.8046875 , -76231.8046875 , -76231.8046875 , -76231.8046875 ,\n",
       "       -76231.8046875 , -76231.8046875 , -76231.8046875 , -76231.8046875 ,\n",
       "       -76231.8046875 , -76231.8046875 , -76231.8046875 , -76231.8046875 ,\n",
       "       -76231.8046875 , -76231.8046875 , -76231.8046875 , -76231.8046875 ,\n",
       "       -76231.8046875 , -76231.8046875 , -76231.8046875 , -76231.8046875 ,\n",
       "       -76231.8046875 , -76231.8046875 , -76231.8046875 , -76231.8046875 ,\n",
       "       -76231.8046875 , -76231.8046875 , -76231.8046875 , -76231.8046875 ,\n",
       "       -76231.8046875 , -76231.8046875 , -76231.8046875 , -76231.8046875 ,\n",
       "       -76231.8046875 , -76231.8046875 , -76231.8046875 , -76231.8046875 ,\n",
       "       -76231.8046875 , -76231.8046875 , -76231.8046875 , -76231.8046875 ,\n",
       "       -76231.8046875 , -76231.8046875 , -76231.8046875 , -76231.8046875 ,\n",
       "       -76231.8046875 , -76231.8046875 , -76231.8046875 , -76231.8046875 ,\n",
       "       -76231.8046875 , -76231.8046875 , -76231.8046875 , -76231.8046875 ,\n",
       "       -76231.8046875 , -76231.8046875 , -76231.8046875 , -76231.8046875 ,\n",
       "       -76231.8046875 , -76231.8046875 , -76231.8046875 , -76231.8046875 ,\n",
       "       -76231.8046875 , -76231.8046875 , -76231.8046875 , -76231.8046875 ,\n",
       "       -76231.8046875 , -76231.8046875 , -76231.8046875 , -76231.8046875 ,\n",
       "       -76231.8046875 , -76231.8046875 , -76231.8046875 , -76231.8046875 ,\n",
       "       -76231.8046875 , -76231.8046875 , -76231.8046875 , -76231.8046875 ,\n",
       "       -76231.8046875 , -76231.8046875 , -76231.8046875 , -76231.8046875 ,\n",
       "       -76231.8046875 , -76231.8046875 , -76231.8046875 , -76231.8046875 ,\n",
       "       -76231.8046875 , -76231.8046875 , -76231.8046875 , -76231.8046875 ,\n",
       "       -76231.8046875 , -76231.8046875 , -76231.8046875 , -76231.8046875 ,\n",
       "       -76231.8046875 , -76231.8046875 , -76231.8046875 , -76231.8046875 ,\n",
       "       -76231.8046875 , -76231.8046875 , -76231.8046875 , -76231.8046875 ,\n",
       "       -76231.8046875 , -76231.8046875 , -76231.8046875 , -76231.8046875 ,\n",
       "       -76231.8046875 , -76231.8046875 , -76231.8046875 , -76231.8046875 ,\n",
       "       -76231.8046875 , -76231.8046875 , -76231.8046875 , -76231.8046875 ,\n",
       "       -76231.8046875 , -76231.8046875 , -76231.8046875 , -76231.8046875 ,\n",
       "       -76231.8046875 , -76231.8046875 , -76231.8046875 , -76231.8046875 ,\n",
       "       -76231.8046875 , -76231.8046875 , -76231.8046875 , -76231.8046875 ,\n",
       "       -76231.8046875 , -76231.8046875 , -76231.8046875 , -76231.8046875 ,\n",
       "       -76231.8046875 , -76231.8046875 , -76231.8046875 , -76231.8046875 ,\n",
       "       -76231.8046875 , -76231.8046875 , -76231.8046875 , -76231.8046875 ,\n",
       "       -76231.8046875 , -76231.8046875 , -76231.8046875 , -76231.8046875 ,\n",
       "       -76231.8046875 , -76231.8046875 , -76231.8046875 , -76231.8046875 ,\n",
       "       -76231.8046875 , -76231.8046875 , -76231.8046875 , -76231.8046875 ,\n",
       "       -76231.8046875 , -76231.8046875 , -76231.8046875 , -76231.8046875 ,\n",
       "       -76231.8046875 , -76231.8046875 , -76231.8046875 , -76231.8046875 ,\n",
       "       -76231.8046875 , -76231.8046875 , -76231.8046875 , -76231.8046875 ,\n",
       "       -76231.8046875 , -76231.8046875 , -76231.8046875 , -76231.8046875 ,\n",
       "       -76231.8046875 , -76231.8046875 , -76231.8046875 , -76231.8046875 ,\n",
       "       -76231.8046875 , -76231.8046875 , -76231.8046875 , -76231.8046875 ,\n",
       "       -76231.8046875 , -76231.8046875 , -76231.8046875 , -76231.8046875 ,\n",
       "       -76231.8046875 , -76231.8046875 , -76231.8046875 , -76231.8046875 ,\n",
       "       -76231.8046875 , -76231.8046875 , -76231.8046875 , -76231.8046875 ,\n",
       "       -76231.8046875 , -76231.8046875 , -76231.8046875 , -76231.8046875 ,\n",
       "       -76231.8046875 , -76231.8046875 , -76231.8046875 , -76231.8046875 ,\n",
       "       -76231.8046875 , -76231.8046875 , -76231.8046875 , -76231.8046875 ,\n",
       "       -76231.8046875 , -76231.8046875 , -76231.8046875 , -76231.8046875 ,\n",
       "       -76231.8046875 , -76231.8046875 , -76231.8046875 , -76231.8046875 ,\n",
       "       -76231.8046875 , -76231.8046875 , -76231.8046875 , -76231.8046875 ,\n",
       "       -76231.8046875 , -76231.8046875 , -76231.8046875 , -76231.8046875 ,\n",
       "       -76231.8046875 , -76231.8046875 , -76231.8046875 , -76231.8046875 ,\n",
       "       -76231.8046875 , -76231.8046875 , -76231.8046875 , -76231.8046875 ,\n",
       "       -76231.8046875 , -76231.8046875 , -76231.8046875 , -76231.8046875 ,\n",
       "       -76231.8046875 , -76231.8046875 , -76231.8046875 , -76231.8046875 ,\n",
       "       -76231.8046875 , -76231.8046875 , -76231.8046875 , -76231.8046875 ,\n",
       "       -76231.8046875 , -76231.8046875 , -76231.8046875 , -76231.8046875 ,\n",
       "       -76231.8046875 , -76231.8046875 , -76231.8046875 , -76231.8046875 ,\n",
       "       -76231.8046875 , -76231.8046875 , -76231.8046875 , -76231.8046875 ,\n",
       "       -76231.8046875 , -76231.8046875 , -76231.8046875 , -76231.8046875 ,\n",
       "       -76231.8046875 , -76231.8046875 , -76231.8046875 , -76231.8046875 ,\n",
       "       -76231.8046875 , -76231.8046875 , -76231.8046875 , -76231.8046875 ,\n",
       "       -76231.8046875 , -76231.8046875 , -76231.8046875 , -76231.8046875 ,\n",
       "       -76231.8046875 , -76231.8046875 , -76231.8046875 , -76231.8046875 ,\n",
       "       -76231.8046875 , -76231.8046875 , -76231.8046875 , -76231.8046875 ,\n",
       "       -76231.8046875 , -76231.8046875 , -76231.8046875 , -76231.8046875 ,\n",
       "       -76231.8046875 , -76231.8046875 , -76231.8046875 , -76231.8046875 ,\n",
       "       -76231.8046875 , -76231.8046875 , -76231.8046875 , -76231.8046875 ,\n",
       "       -76231.8046875 , -76231.8046875 , -76231.8046875 , -76231.8046875 ,\n",
       "       -76231.8046875 , -76231.8046875 , -76231.8046875 , -76231.8046875 ,\n",
       "       -76231.8046875 , -76231.8046875 , -76231.8046875 , -76231.8046875 ,\n",
       "       -76231.8046875 , -76231.8046875 , -76231.8046875 , -76231.8046875 ,\n",
       "       -76231.8046875 , -76231.8046875 , -76231.8046875 , -76231.8046875 ,\n",
       "       -76231.8046875 , -76231.8046875 , -76231.8046875 , -76231.8046875 ,\n",
       "       -76231.8046875 , -76231.8046875 , -76231.8046875 , -76231.8046875 ,\n",
       "       -76231.8046875 , -76231.8046875 , -76231.8046875 , -76231.8046875 ,\n",
       "       -76231.8046875 , -76231.8046875 , -76231.8046875 , -76231.8046875 ,\n",
       "       -76231.8046875 , -76231.8046875 , -76231.8046875 , -76231.8046875 ,\n",
       "       -76231.8046875 , -76231.8046875 , -76231.8046875 , -76231.8046875 ,\n",
       "       -76231.8046875 , -76231.8046875 , -76231.8046875 , -76231.8046875 ,\n",
       "       -76231.8046875 , -76231.8046875 , -76231.8046875 , -76231.8046875 ,\n",
       "       -76231.8046875 , -76231.8046875 , -76231.8046875 , -76231.8046875 ,\n",
       "       -76231.8046875 , -76231.8046875 , -76231.8046875 , -76231.8046875 ,\n",
       "       -76231.8046875 , -76231.8046875 , -76231.8046875 , -76231.8046875 ,\n",
       "       -76231.8046875 , -76231.8046875 , -76231.8046875 , -76231.8046875 ,\n",
       "       -76231.8046875 , -76231.8046875 , -76231.8046875 , -76231.8046875 ,\n",
       "       -76231.8046875 , -76231.8046875 , -76231.8046875 , -76231.8046875 ,\n",
       "       -76231.8046875 , -76231.8046875 , -76231.8046875 , -76231.8046875 ,\n",
       "       -76231.8046875 , -76231.8046875 , -76231.8046875 , -76231.8046875 ,\n",
       "       -76231.8046875 , -76231.8046875 , -76231.8046875 , -76231.8046875 ,\n",
       "       -76231.8046875 , -76231.8046875 , -76231.8046875 , -76231.8046875 ,\n",
       "       -76231.8046875 , -76231.8046875 , -76231.8046875 , -76231.8046875 ,\n",
       "       -76231.8046875 , -76231.8046875 , -76231.8046875 , -76231.8046875 ,\n",
       "       -76231.8046875 , -76231.8046875 , -76231.8046875 , -76231.8046875 ,\n",
       "       -76231.8046875 , -76231.8046875 , -76231.8046875 , -76231.8046875 ,\n",
       "       -76231.8046875 , -76231.8046875 , -76231.8046875 , -76231.8046875 ,\n",
       "       -76231.8046875 , -76231.8046875 , -76231.8046875 , -76231.8046875 ,\n",
       "       -76231.8046875 , -76231.8046875 , -76231.8046875 , -76231.8046875 ,\n",
       "       -76231.8046875 , -76231.8046875 , -76231.8046875 , -76231.8046875 ,\n",
       "       -76231.8046875 , -76231.8046875 , -76231.8046875 , -76231.8046875 ,\n",
       "       -76231.8046875 , -76231.8046875 , -76231.8046875 , -76231.8046875 ,\n",
       "       -76231.8046875 , -76231.8046875 , -76231.8046875 , -76231.8046875 ,\n",
       "       -76231.8046875 , -76231.8046875 , -76231.8046875 , -76231.8046875 ,\n",
       "       -76231.8046875 , -76231.8046875 , -76231.8046875 , -76231.8046875 ,\n",
       "       -76231.8046875 , -76231.8046875 , -76231.8046875 , -76231.8046875 ,\n",
       "       -76231.8046875 , -76231.8046875 , -76231.8046875 , -76231.8046875 ,\n",
       "       -76231.8046875 , -76231.8046875 , -76231.8046875 , -76231.8046875 ,\n",
       "       -76231.8046875 , -76231.8046875 , -76231.8046875 , -76231.8046875 ,\n",
       "       -76231.8046875 , -76231.8046875 , -76231.8046875 , -76231.8046875 ,\n",
       "       -76231.8046875 , -76231.8046875 , -76231.8046875 , -76231.8046875 ,\n",
       "       -76231.8046875 , -76231.8046875 , -76231.8046875 , -76231.8046875 ,\n",
       "       -76231.8046875 , -76231.8046875 , -76231.8046875 , -76231.8046875 ,\n",
       "       -76231.8046875 , -76231.8046875 , -76231.8046875 , -76231.8046875 ,\n",
       "       -76231.8046875 , -76231.8046875 , -76231.8046875 , -76231.8046875 ,\n",
       "       -76231.8046875 , -76231.8046875 , -76231.8046875 , -76231.8046875 ,\n",
       "       -76231.8046875 , -76231.8046875 , -76231.8046875 , -76231.8046875 ,\n",
       "       -76231.8046875 , -76231.8046875 , -76231.8046875 , -76231.8046875 ,\n",
       "       -76231.8046875 , -76231.8046875 , -76231.8046875 , -76231.8046875 ,\n",
       "       -76231.8046875 , -76231.8046875 , -76231.8046875 , -76231.8046875 ,\n",
       "       -76231.8046875 , -76231.8046875 , -76231.8046875 , -76231.8046875 ,\n",
       "       -76231.8046875 , -76231.8046875 , -76231.8046875 , -76231.8046875 ,\n",
       "       -76231.8046875 , -76231.8046875 , -76231.8046875 , -76231.8046875 ,\n",
       "       -76231.8046875 , -76231.8046875 , -76231.8046875 , -76231.8046875 ,\n",
       "       -76231.8046875 , -76231.8046875 , -76231.8046875 , -76231.8046875 ,\n",
       "       -76231.8046875 , -76231.8046875 , -76231.8046875 , -76231.8046875 ,\n",
       "       -76231.8046875 , -76231.8046875 , -76231.8046875 , -76231.8046875 ,\n",
       "       -76231.8046875 , -76231.8046875 , -76231.8046875 , -76231.8046875 ,\n",
       "       -76231.8046875 , -76231.8046875 , -76231.8046875 , -76231.8046875 ,\n",
       "       -76231.8046875 , -76231.8046875 , -76231.8046875 , -76231.8046875 ,\n",
       "       -76231.8046875 , -76231.8046875 , -76231.8046875 , -76231.8046875 ,\n",
       "       -76231.8046875 , -76231.8046875 , -76231.8046875 , -76231.8046875 ,\n",
       "       -76231.8046875 , -76231.8046875 , -76231.8046875 , -76231.8046875 ,\n",
       "       -76231.8046875 , -76231.8046875 , -76231.8046875 , -76231.8046875 ,\n",
       "       -76231.8046875 , -76231.8046875 , -76231.8046875 , -76231.8046875 ,\n",
       "       -76231.8046875 , -76231.8046875 , -76231.8046875 , -76231.8046875 ,\n",
       "       -76231.8046875 , -76231.8046875 , -76231.8046875 , -76231.8046875 ,\n",
       "       -76231.8046875 , -76231.8046875 , -76231.8046875 , -76231.8046875 ,\n",
       "       -76231.8046875 , -76231.8046875 , -76231.8046875 , -76231.8046875 ,\n",
       "       -76231.8046875 , -76231.8046875 , -76231.8046875 , -76231.8046875 ,\n",
       "       -76231.8046875 , -76231.8046875 , -76231.8046875 , -76231.8046875 ,\n",
       "       -76231.8046875 , -76231.8046875 , -76231.8046875 , -76231.8046875 ,\n",
       "       -76231.8046875 , -76231.8046875 , -76231.8046875 , -76231.8046875 ,\n",
       "       -76231.8046875 , -76231.8046875 , -76231.8046875 , -76231.8046875 ,\n",
       "       -76231.8046875 , -76231.8046875 , -76231.8046875 , -76231.8046875 ,\n",
       "       -76231.8046875 , -76231.8046875 , -76231.8046875 , -76231.8046875 ,\n",
       "       -76231.8046875 , -76231.8046875 , -76231.8046875 , -76231.8046875 ,\n",
       "       -76231.8046875 , -76231.8046875 , -76231.8046875 , -76231.8046875 ,\n",
       "       -76231.8046875 , -76231.8046875 , -76231.8046875 , -76231.8046875 ,\n",
       "       -76231.8046875 , -76231.8046875 , -76231.8046875 , -76231.8046875 ,\n",
       "       -76231.8046875 , -76231.8046875 , -76231.8046875 , -76231.8046875 ,\n",
       "       -76231.8046875 , -76231.8046875 , -76231.8046875 , -76231.8046875 ,\n",
       "       -76231.8046875 , -76231.8046875 , -76231.8046875 , -76231.8046875 ,\n",
       "       -76231.8046875 , -76231.8046875 , -76231.8046875 , -76231.8046875 ,\n",
       "       -76231.8046875 , -76231.8046875 , -76231.8046875 , -76231.8046875 ,\n",
       "       -76231.8046875 , -76231.8046875 , -76231.8046875 , -76231.8046875 ,\n",
       "       -76231.8046875 , -76231.8046875 , -76231.8046875 , -76231.8046875 ])"
      ]
     },
     "execution_count": 46,
     "metadata": {},
     "output_type": "execute_result"
    }
   ],
   "source": [
    "prog"
   ]
  },
  {
   "cell_type": "code",
   "execution_count": 63,
   "metadata": {
    "collapsed": false
   },
   "outputs": [
    {
     "data": {
      "text/plain": [
       "array([[ 1.00000012]], dtype=float32)"
      ]
     },
     "execution_count": 63,
     "metadata": {},
     "output_type": "execute_result"
    }
   ],
   "source": [
    "sqrt(dot(v.eval().T,v.eval()))"
   ]
  },
  {
   "cell_type": "code",
   "execution_count": 50,
   "metadata": {
    "collapsed": false
   },
   "outputs": [
    {
     "data": {
      "text/plain": [
       "0.030677897437792302"
      ]
     },
     "execution_count": 50,
     "metadata": {},
     "output_type": "execute_result"
    }
   ],
   "source": [
    "sqrt(-prog[900])/9000"
   ]
  },
  {
   "cell_type": "code",
   "execution_count": 51,
   "metadata": {
    "collapsed": true
   },
   "outputs": [],
   "source": [
    "vv = v.eval()"
   ]
  },
  {
   "cell_type": "code",
   "execution_count": 52,
   "metadata": {
    "collapsed": true
   },
   "outputs": [],
   "source": [
    "fin = dot(X_train_l,vv)"
   ]
  },
  {
   "cell_type": "code",
   "execution_count": 61,
   "metadata": {
    "collapsed": false
   },
   "outputs": [
    {
     "data": {
      "text/plain": [
       "<matplotlib.collections.PathCollection at 0x119b6e4e0>"
      ]
     },
     "execution_count": 61,
     "metadata": {},
     "output_type": "execute_result"
    },
    {
     "data": {
      "image/png": "[encoded data removed]",
      "text/plain": [
       "<matplotlib.figure.Figure at 0x119a86f98>"
      ]
     },
     "metadata": {},
     "output_type": "display_data"
    }
   ],
   "source": [
    "figure(figsize=(17,5))\n",
    "scatter(fin, zeros(len(fin)))"
   ]
  },
  {
   "cell_type": "code",
   "execution_count": 24,
   "metadata": {
    "collapsed": false
   },
   "outputs": [
    {
     "data": {
      "text/plain": [
       "<tf.Tensor 'MatMul_4:0' shape=(1, 1) dtype=float32>"
      ]
     },
     "execution_count": 24,
     "metadata": {},
     "output_type": "execute_result"
    }
   ],
   "source": [
    "tf.matmul(eve,v)"
   ]
  },
  {
   "cell_type": "code",
   "execution_count": 21,
   "metadata": {
    "collapsed": false
   },
   "outputs": [],
   "source": [
    "evecs[0] = np.ones(116)"
   ]
  },
  {
   "cell_type": "code",
   "execution_count": 24,
   "metadata": {
    "collapsed": false
   },
   "outputs": [
    {
     "data": {
      "text/plain": [
       "array([[ 1.,  1.,  1., ...,  1.,  1.,  1.],\n",
       "       [ 0.,  0.,  0., ...,  0.,  0.,  0.],\n",
       "       [ 0.,  0.,  0., ...,  0.,  0.,  0.],\n",
       "       ..., \n",
       "       [ 0.,  0.,  0., ...,  0.,  0.,  0.],\n",
       "       [ 0.,  0.,  0., ...,  0.,  0.,  0.],\n",
       "       [ 0.,  0.,  0., ...,  0.,  0.,  0.]], dtype=float32)"
      ]
     },
     "execution_count": 24,
     "metadata": {},
     "output_type": "execute_result"
    }
   ],
   "source": [
    "evecs"
   ]
  },
  {
   "cell_type": "code",
   "execution_count": null,
   "metadata": {
    "collapsed": true
   },
   "outputs": [],
   "source": []
  }
 ],
 "metadata": {
  "kernelspec": {
   "display_name": "Python 3",
   "language": "python",
   "name": "python3"
  },
  "language_info": {
   "codemirror_mode": {
    "name": "ipython",
    "version": 3
   },
   "file_extension": ".py",
   "mimetype": "text/x-python",
   "name": "python",
   "nbconvert_exporter": "python",
   "pygments_lexer": "ipython3",
   "version": "3.5.1"
  }
 },
 "nbformat": 4,
 "nbformat_minor": 0
}
