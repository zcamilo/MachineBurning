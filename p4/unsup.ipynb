{
 "cells": [
  {
   "cell_type": "markdown",
   "metadata": {},
   "source": [
    "# Loading the data"
   ]
  },
  {
   "cell_type": "code",
   "execution_count": 1,
   "metadata": {
    "collapsed": false
   },
   "outputs": [
    {
     "name": "stdout",
     "output_type": "stream",
     "text": [
      "Populating the interactive namespace from numpy and matplotlib\n"
     ]
    }
   ],
   "source": [
    "%pylab inline\n",
    "import h5py"
   ]
  },
  {
   "cell_type": "code",
   "execution_count": 2,
   "metadata": {
    "collapsed": false
   },
   "outputs": [
    {
     "name": "stdout",
     "output_type": "stream",
     "text": [
      "KeysView(<HDF5 file \"train_labeled.h5\" (mode r)>)\n",
      "KeysView(<HDF5 file \"train_unlabeled.h5\" (mode r)>)\n",
      "KeysView(<HDF5 file \"test.h5\" (mode r)>)\n"
     ]
    }
   ],
   "source": [
    "f_train_l = h5py.File('train_labeled.h5','r')\n",
    "f_train_ul = h5py.File('train_unlabeled.h5','r')\n",
    "f_test = h5py.File('test.h5','r')\n",
    "print(f_train_l.keys())\n",
    "print(f_train_ul.keys())\n",
    "print(f_test.keys())"
   ]
  },
  {
   "cell_type": "code",
   "execution_count": 3,
   "metadata": {
    "collapsed": false
   },
   "outputs": [
    {
     "name": "stdout",
     "output_type": "stream",
     "text": [
      "KeysView(<HDF5 group \"/train\" (6 members)>)\n",
      "KeysView(<HDF5 group \"/train\" (4 members)>)\n",
      "KeysView(<HDF5 group \"/test\" (4 members)>)\n"
     ]
    }
   ],
   "source": [
    "a_train_l = f_train_l['train']\n",
    "a_train_ul = f_train_ul['train']\n",
    "a_test = f_test['test']\n",
    "print(a_train_l.keys())\n",
    "print(a_train_ul.keys())\n",
    "print(a_test.keys())"
   ]
  },
  {
   "cell_type": "code",
   "execution_count": 4,
   "metadata": {
    "collapsed": false
   },
   "outputs": [
    {
     "data": {
      "text/plain": [
       "(21000, 128)"
      ]
     },
     "execution_count": 4,
     "metadata": {},
     "output_type": "execute_result"
    }
   ],
   "source": [
    "b = a_train_ul['block0_values']\n",
    "b.shape"
   ]
  },
  {
   "cell_type": "code",
   "execution_count": 5,
   "metadata": {
    "collapsed": true
   },
   "outputs": [],
   "source": [
    "# axis0 -> Labels [shape (129,)]\n",
    "# axis1 -> id column [shape (9000,)] [shape (21000,)]\n",
    "# block0_items -> traits labels [shape (128,)]\n",
    "# block0_values -> traits values [shape (9000,128)] [shape (21000,128)]\n",
    "# block1_items -> 'y' label\n",
    "# block1_values -> y column (without label) [shape (9000,1)] [shape (21000,1)]"
   ]
  },
  {
   "cell_type": "code",
   "execution_count": 6,
   "metadata": {
    "collapsed": false
   },
   "outputs": [],
   "source": [
    "X_train_l = a_train_l['block0_values'][()]\n",
    "X_train_l = np.float32(X_train_l)\n",
    "y_train_l = a_train_l['block1_values'][()]\n",
    "y_train_l = np.float32(y_train_l)\n",
    "X_train_ul = a_train_ul['block0_values'][()]\n",
    "X_train_ul = np.float32(X_train_ul)\n",
    "y_train_l = y_train_l[:,0]\n",
    "X_test = a_test['block0_values'][()]\n",
    "X_test = np.float32(X_test)"
   ]
  },
  {
   "cell_type": "code",
   "execution_count": null,
   "metadata": {
    "collapsed": false
   },
   "outputs": [],
   "source": []
  },
  {
   "cell_type": "markdown",
   "metadata": {
    "collapsed": true
   },
   "source": [
    "# TensorFlow"
   ]
  },
  {
   "cell_type": "code",
   "execution_count": 7,
   "metadata": {
    "collapsed": false
   },
   "outputs": [],
   "source": [
    "import tensorflow as tf\n",
    "sess = tf.InteractiveSession()"
   ]
  },
  {
   "cell_type": "code",
   "execution_count": 8,
   "metadata": {
    "collapsed": false
   },
   "outputs": [],
   "source": [
    "x = tf.placeholder(tf.float32, shape=[None, 128])\n",
    "v = tf.Variable( tf.random_normal([128, 1], mean=0, stddev=0.1) )"
   ]
  },
  {
   "cell_type": "code",
   "execution_count": 9,
   "metadata": {
    "collapsed": true
   },
   "outputs": [],
   "source": [
    "norm = tf.matmul(tf.transpose(v),v)\n",
    "v = tf.div(v,norm)"
   ]
  },
  {
   "cell_type": "code",
   "execution_count": 10,
   "metadata": {
    "collapsed": true
   },
   "outputs": [],
   "source": [
    "sess.run(tf.initialize_all_variables())"
   ]
  },
  {
   "cell_type": "code",
   "execution_count": 11,
   "metadata": {
    "collapsed": true
   },
   "outputs": [],
   "source": [
    "l = -tf.matmul(tf.transpose(tf.matmul(x,v)),tf.matmul(x,v))"
   ]
  },
  {
   "cell_type": "code",
   "execution_count": 12,
   "metadata": {
    "collapsed": false
   },
   "outputs": [],
   "source": [
    "train_step = tf.train.GradientDescentOptimizer(0.9).minimize(l)"
   ]
  },
  {
   "cell_type": "code",
   "execution_count": 13,
   "metadata": {
    "collapsed": true
   },
   "outputs": [],
   "source": [
    "#train_step.run(feed_dict={x: X_train_l})"
   ]
  },
  {
   "cell_type": "code",
   "execution_count": 14,
   "metadata": {
    "collapsed": false
   },
   "outputs": [],
   "source": [
    "#_, lo = sess.run([train_step, l], feed_dict={x:X_train_l})"
   ]
  },
  {
   "cell_type": "code",
   "execution_count": 15,
   "metadata": {
    "collapsed": false
   },
   "outputs": [],
   "source": [
    "prog = array([])"
   ]
  },
  {
   "cell_type": "code",
   "execution_count": 16,
   "metadata": {
    "collapsed": false
   },
   "outputs": [],
   "source": [
    "for i in arange(1000):\n",
    "    _, lo = sess.run([train_step, l], feed_dict={x:X_train_l})\n",
    "    v = tf.div(v,norm)\n",
    "    prog = np.append(prog, lo)"
   ]
  },
  {
   "cell_type": "code",
   "execution_count": 32,
   "metadata": {
    "collapsed": false
   },
   "outputs": [
    {
     "data": {
      "text/plain": [
       "[<matplotlib.lines.Line2D at 0x11714f390>]"
      ]
     },
     "execution_count": 32,
     "metadata": {},
     "output_type": "execute_result"
    },
    {
     "data": {
      "image/png": "[encoded data removed]",
      "text/plain": [
       "<matplotlib.figure.Figure at 0x116ae8048>"
      ]
     },
     "metadata": {},
     "output_type": "display_data"
    }
   ],
   "source": [
    "plot(prog)"
   ]
  },
  {
   "cell_type": "code",
   "execution_count": null,
   "metadata": {
    "collapsed": true
   },
   "outputs": [],
   "source": []
  }
 ],
 "metadata": {
  "kernelspec": {
   "display_name": "Python 3",
   "language": "python",
   "name": "python3"
  },
  "language_info": {
   "codemirror_mode": {
    "name": "ipython",
    "version": 3
   },
   "file_extension": ".py",
   "mimetype": "text/x-python",
   "name": "python",
   "nbconvert_exporter": "python",
   "pygments_lexer": "ipython3",
   "version": "3.5.1"
  }
 },
 "nbformat": 4,
 "nbformat_minor": 0
}
